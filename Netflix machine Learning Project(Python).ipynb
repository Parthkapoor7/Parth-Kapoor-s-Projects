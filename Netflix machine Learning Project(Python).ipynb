{
 "cells": [
  {
   "cell_type": "markdown",
   "metadata": {
    "id": "_nZzAterSsU6"
   },
   "source": [
    "#Importing Libraries and stuff"
   ]
  },
  {
   "cell_type": "code",
   "execution_count": null,
   "metadata": {
    "id": "9Eoyg6bFSuwi"
   },
   "outputs": [],
   "source": [
    "import pandas as pd\n",
    "import os\n",
    "import matplotlib.pyplot as plt\n",
    "import numpy as np\n",
    "import seaborn as sns\n",
    "from sklearn.preprocessing import StandardScaler\n",
    "from sklearn.model_selection import train_test_split\n",
    "from sklearn.linear_model import LogisticRegression\n",
    "from sklearn.metrics import classification_report, accuracy_score\n",
    "from sklearn.metrics import confusion_matrix\n",
    "\n",
    "\n"
   ]
  },
  {
   "cell_type": "markdown",
   "metadata": {
    "id": "rpAEhYgWV3kT"
   },
   "source": [
    "#Reading the dataframe"
   ]
  },
  {
   "cell_type": "code",
   "execution_count": null,
   "metadata": {
    "id": "7CH_2ijUV-oM"
   },
   "outputs": [],
   "source": [
    "df = pd.read_excel('/content/Netflix.xlsx')"
   ]
  },
  {
   "cell_type": "code",
   "execution_count": null,
   "metadata": {
    "colab": {
     "base_uri": "https://localhost:8080/",
     "height": 435
    },
    "id": "c7ddAD4gWHfl",
    "outputId": "d5efc530-577a-4273-b9a3-161fb725f16f"
   },
   "outputs": [
    {
     "data": {
      "text/html": [
       "\n",
       "  <div id=\"df-eaf5a5ff-cac7-425d-8bc0-de956bb1aad7\" class=\"colab-df-container\">\n",
       "    <div>\n",
       "<style scoped>\n",
       "    .dataframe tbody tr th:only-of-type {\n",
       "        vertical-align: middle;\n",
       "    }\n",
       "\n",
       "    .dataframe tbody tr th {\n",
       "        vertical-align: top;\n",
       "    }\n",
       "\n",
       "    .dataframe thead th {\n",
       "        text-align: right;\n",
       "    }\n",
       "</style>\n",
       "<table border=\"1\" class=\"dataframe\">\n",
       "  <thead>\n",
       "    <tr style=\"text-align: right;\">\n",
       "      <th></th>\n",
       "      <th>Title</th>\n",
       "      <th>Genre1</th>\n",
       "      <th>Genre2</th>\n",
       "      <th>Genre3</th>\n",
       "      <th>Genre4</th>\n",
       "      <th>Genre5</th>\n",
       "      <th>Genre6</th>\n",
       "      <th>Genre7</th>\n",
       "      <th>Genre8</th>\n",
       "      <th>Genre9</th>\n",
       "      <th>...</th>\n",
       "      <th>Netflix Release Date</th>\n",
       "      <th>Production House</th>\n",
       "      <th>Netflix Link</th>\n",
       "      <th>IMDb Link</th>\n",
       "      <th>Summary</th>\n",
       "      <th>IMDb Votes</th>\n",
       "      <th>Image</th>\n",
       "      <th>Poster</th>\n",
       "      <th>TMDb Trailer</th>\n",
       "      <th>Trailer Site</th>\n",
       "    </tr>\n",
       "  </thead>\n",
       "  <tbody>\n",
       "    <tr>\n",
       "      <th>0</th>\n",
       "      <td>Lets Fight Ghost</td>\n",
       "      <td>Crime</td>\n",
       "      <td>Drama</td>\n",
       "      <td>Fantasy</td>\n",
       "      <td>Horror</td>\n",
       "      <td>Romance</td>\n",
       "      <td>NaN</td>\n",
       "      <td>NaN</td>\n",
       "      <td>NaN</td>\n",
       "      <td>NaN</td>\n",
       "      <td>...</td>\n",
       "      <td>2021-03-04</td>\n",
       "      <td>Canal+, Sandrew Metronome</td>\n",
       "      <td>https://www.netflix.com/watch/81415947</td>\n",
       "      <td>https://www.imdb.com/title/tt1139797</td>\n",
       "      <td>A med student with a supernatural gift tries t...</td>\n",
       "      <td>205926.0</td>\n",
       "      <td>https://occ-0-4708-64.1.nflxso.net/dnm/api/v6/...</td>\n",
       "      <td>https://m.media-amazon.com/images/M/MV5BOWM4NT...</td>\n",
       "      <td>NaN</td>\n",
       "      <td>NaN</td>\n",
       "    </tr>\n",
       "    <tr>\n",
       "      <th>1</th>\n",
       "      <td>HOW TO BUILD A GIRL</td>\n",
       "      <td>Comedy</td>\n",
       "      <td>NaN</td>\n",
       "      <td>NaN</td>\n",
       "      <td>NaN</td>\n",
       "      <td>NaN</td>\n",
       "      <td>NaN</td>\n",
       "      <td>NaN</td>\n",
       "      <td>NaN</td>\n",
       "      <td>NaN</td>\n",
       "      <td>...</td>\n",
       "      <td>2021-03-04</td>\n",
       "      <td>Film 4, Monumental Pictures, Lionsgate</td>\n",
       "      <td>https://www.netflix.com/watch/81041267</td>\n",
       "      <td>https://www.imdb.com/title/tt4193072</td>\n",
       "      <td>When nerdy Johanna moves to London, things get...</td>\n",
       "      <td>2838.0</td>\n",
       "      <td>https://occ-0-1081-999.1.nflxso.net/dnm/api/v6...</td>\n",
       "      <td>https://m.media-amazon.com/images/M/MV5BZGUyN2...</td>\n",
       "      <td>https://www.youtube.com/watch?v=eIbcxPy4okQ</td>\n",
       "      <td>YouTube</td>\n",
       "    </tr>\n",
       "    <tr>\n",
       "      <th>2</th>\n",
       "      <td>Centigrade</td>\n",
       "      <td>Drama</td>\n",
       "      <td>Thriller</td>\n",
       "      <td>NaN</td>\n",
       "      <td>NaN</td>\n",
       "      <td>NaN</td>\n",
       "      <td>NaN</td>\n",
       "      <td>NaN</td>\n",
       "      <td>NaN</td>\n",
       "      <td>NaN</td>\n",
       "      <td>...</td>\n",
       "      <td>2021-03-04</td>\n",
       "      <td>NaN</td>\n",
       "      <td>https://www.netflix.com/watch/81305978</td>\n",
       "      <td>https://www.imdb.com/title/tt8945942</td>\n",
       "      <td>Trapped in a frozen car during a blizzard, a p...</td>\n",
       "      <td>1720.0</td>\n",
       "      <td>https://occ-0-1081-999.1.nflxso.net/dnm/api/v6...</td>\n",
       "      <td>https://m.media-amazon.com/images/M/MV5BODM2MD...</td>\n",
       "      <td>https://www.youtube.com/watch?v=0RvV7TNUlkQ</td>\n",
       "      <td>YouTube</td>\n",
       "    </tr>\n",
       "  </tbody>\n",
       "</table>\n",
       "<p>3 rows × 88 columns</p>\n",
       "</div>\n",
       "    <div class=\"colab-df-buttons\">\n",
       "\n",
       "  <div class=\"colab-df-container\">\n",
       "    <button class=\"colab-df-convert\" onclick=\"convertToInteractive('df-eaf5a5ff-cac7-425d-8bc0-de956bb1aad7')\"\n",
       "            title=\"Convert this dataframe to an interactive table.\"\n",
       "            style=\"display:none;\">\n",
       "\n",
       "  <svg xmlns=\"http://www.w3.org/2000/svg\" height=\"24px\" viewBox=\"0 -960 960 960\">\n",
       "    <path d=\"M120-120v-720h720v720H120Zm60-500h600v-160H180v160Zm220 220h160v-160H400v160Zm0 220h160v-160H400v160ZM180-400h160v-160H180v160Zm440 0h160v-160H620v160ZM180-180h160v-160H180v160Zm440 0h160v-160H620v160Z\"/>\n",
       "  </svg>\n",
       "    </button>\n",
       "\n",
       "  <style>\n",
       "    .colab-df-container {\n",
       "      display:flex;\n",
       "      gap: 12px;\n",
       "    }\n",
       "\n",
       "    .colab-df-convert {\n",
       "      background-color: #E8F0FE;\n",
       "      border: none;\n",
       "      border-radius: 50%;\n",
       "      cursor: pointer;\n",
       "      display: none;\n",
       "      fill: #1967D2;\n",
       "      height: 32px;\n",
       "      padding: 0 0 0 0;\n",
       "      width: 32px;\n",
       "    }\n",
       "\n",
       "    .colab-df-convert:hover {\n",
       "      background-color: #E2EBFA;\n",
       "      box-shadow: 0px 1px 2px rgba(60, 64, 67, 0.3), 0px 1px 3px 1px rgba(60, 64, 67, 0.15);\n",
       "      fill: #174EA6;\n",
       "    }\n",
       "\n",
       "    .colab-df-buttons div {\n",
       "      margin-bottom: 4px;\n",
       "    }\n",
       "\n",
       "    [theme=dark] .colab-df-convert {\n",
       "      background-color: #3B4455;\n",
       "      fill: #D2E3FC;\n",
       "    }\n",
       "\n",
       "    [theme=dark] .colab-df-convert:hover {\n",
       "      background-color: #434B5C;\n",
       "      box-shadow: 0px 1px 3px 1px rgba(0, 0, 0, 0.15);\n",
       "      filter: drop-shadow(0px 1px 2px rgba(0, 0, 0, 0.3));\n",
       "      fill: #FFFFFF;\n",
       "    }\n",
       "  </style>\n",
       "\n",
       "    <script>\n",
       "      const buttonEl =\n",
       "        document.querySelector('#df-eaf5a5ff-cac7-425d-8bc0-de956bb1aad7 button.colab-df-convert');\n",
       "      buttonEl.style.display =\n",
       "        google.colab.kernel.accessAllowed ? 'block' : 'none';\n",
       "\n",
       "      async function convertToInteractive(key) {\n",
       "        const element = document.querySelector('#df-eaf5a5ff-cac7-425d-8bc0-de956bb1aad7');\n",
       "        const dataTable =\n",
       "          await google.colab.kernel.invokeFunction('convertToInteractive',\n",
       "                                                    [key], {});\n",
       "        if (!dataTable) return;\n",
       "\n",
       "        const docLinkHtml = 'Like what you see? Visit the ' +\n",
       "          '<a target=\"_blank\" href=https://colab.research.google.com/notebooks/data_table.ipynb>data table notebook</a>'\n",
       "          + ' to learn more about interactive tables.';\n",
       "        element.innerHTML = '';\n",
       "        dataTable['output_type'] = 'display_data';\n",
       "        await google.colab.output.renderOutput(dataTable, element);\n",
       "        const docLink = document.createElement('div');\n",
       "        docLink.innerHTML = docLinkHtml;\n",
       "        element.appendChild(docLink);\n",
       "      }\n",
       "    </script>\n",
       "  </div>\n",
       "\n",
       "\n",
       "<div id=\"df-47f42bf4-7abc-4015-ba9b-1476a1ebb168\">\n",
       "  <button class=\"colab-df-quickchart\" onclick=\"quickchart('df-47f42bf4-7abc-4015-ba9b-1476a1ebb168')\"\n",
       "            title=\"Suggest charts\"\n",
       "            style=\"display:none;\">\n",
       "\n",
       "<svg xmlns=\"http://www.w3.org/2000/svg\" height=\"24px\"viewBox=\"0 0 24 24\"\n",
       "     width=\"24px\">\n",
       "    <g>\n",
       "        <path d=\"M19 3H5c-1.1 0-2 .9-2 2v14c0 1.1.9 2 2 2h14c1.1 0 2-.9 2-2V5c0-1.1-.9-2-2-2zM9 17H7v-7h2v7zm4 0h-2V7h2v10zm4 0h-2v-4h2v4z\"/>\n",
       "    </g>\n",
       "</svg>\n",
       "  </button>\n",
       "\n",
       "<style>\n",
       "  .colab-df-quickchart {\n",
       "      --bg-color: #E8F0FE;\n",
       "      --fill-color: #1967D2;\n",
       "      --hover-bg-color: #E2EBFA;\n",
       "      --hover-fill-color: #174EA6;\n",
       "      --disabled-fill-color: #AAA;\n",
       "      --disabled-bg-color: #DDD;\n",
       "  }\n",
       "\n",
       "  [theme=dark] .colab-df-quickchart {\n",
       "      --bg-color: #3B4455;\n",
       "      --fill-color: #D2E3FC;\n",
       "      --hover-bg-color: #434B5C;\n",
       "      --hover-fill-color: #FFFFFF;\n",
       "      --disabled-bg-color: #3B4455;\n",
       "      --disabled-fill-color: #666;\n",
       "  }\n",
       "\n",
       "  .colab-df-quickchart {\n",
       "    background-color: var(--bg-color);\n",
       "    border: none;\n",
       "    border-radius: 50%;\n",
       "    cursor: pointer;\n",
       "    display: none;\n",
       "    fill: var(--fill-color);\n",
       "    height: 32px;\n",
       "    padding: 0;\n",
       "    width: 32px;\n",
       "  }\n",
       "\n",
       "  .colab-df-quickchart:hover {\n",
       "    background-color: var(--hover-bg-color);\n",
       "    box-shadow: 0 1px 2px rgba(60, 64, 67, 0.3), 0 1px 3px 1px rgba(60, 64, 67, 0.15);\n",
       "    fill: var(--button-hover-fill-color);\n",
       "  }\n",
       "\n",
       "  .colab-df-quickchart-complete:disabled,\n",
       "  .colab-df-quickchart-complete:disabled:hover {\n",
       "    background-color: var(--disabled-bg-color);\n",
       "    fill: var(--disabled-fill-color);\n",
       "    box-shadow: none;\n",
       "  }\n",
       "\n",
       "  .colab-df-spinner {\n",
       "    border: 2px solid var(--fill-color);\n",
       "    border-color: transparent;\n",
       "    border-bottom-color: var(--fill-color);\n",
       "    animation:\n",
       "      spin 1s steps(1) infinite;\n",
       "  }\n",
       "\n",
       "  @keyframes spin {\n",
       "    0% {\n",
       "      border-color: transparent;\n",
       "      border-bottom-color: var(--fill-color);\n",
       "      border-left-color: var(--fill-color);\n",
       "    }\n",
       "    20% {\n",
       "      border-color: transparent;\n",
       "      border-left-color: var(--fill-color);\n",
       "      border-top-color: var(--fill-color);\n",
       "    }\n",
       "    30% {\n",
       "      border-color: transparent;\n",
       "      border-left-color: var(--fill-color);\n",
       "      border-top-color: var(--fill-color);\n",
       "      border-right-color: var(--fill-color);\n",
       "    }\n",
       "    40% {\n",
       "      border-color: transparent;\n",
       "      border-right-color: var(--fill-color);\n",
       "      border-top-color: var(--fill-color);\n",
       "    }\n",
       "    60% {\n",
       "      border-color: transparent;\n",
       "      border-right-color: var(--fill-color);\n",
       "    }\n",
       "    80% {\n",
       "      border-color: transparent;\n",
       "      border-right-color: var(--fill-color);\n",
       "      border-bottom-color: var(--fill-color);\n",
       "    }\n",
       "    90% {\n",
       "      border-color: transparent;\n",
       "      border-bottom-color: var(--fill-color);\n",
       "    }\n",
       "  }\n",
       "</style>\n",
       "\n",
       "  <script>\n",
       "    async function quickchart(key) {\n",
       "      const quickchartButtonEl =\n",
       "        document.querySelector('#' + key + ' button');\n",
       "      quickchartButtonEl.disabled = true;  // To prevent multiple clicks.\n",
       "      quickchartButtonEl.classList.add('colab-df-spinner');\n",
       "      try {\n",
       "        const charts = await google.colab.kernel.invokeFunction(\n",
       "            'suggestCharts', [key], {});\n",
       "      } catch (error) {\n",
       "        console.error('Error during call to suggestCharts:', error);\n",
       "      }\n",
       "      quickchartButtonEl.classList.remove('colab-df-spinner');\n",
       "      quickchartButtonEl.classList.add('colab-df-quickchart-complete');\n",
       "    }\n",
       "    (() => {\n",
       "      let quickchartButtonEl =\n",
       "        document.querySelector('#df-47f42bf4-7abc-4015-ba9b-1476a1ebb168 button');\n",
       "      quickchartButtonEl.style.display =\n",
       "        google.colab.kernel.accessAllowed ? 'block' : 'none';\n",
       "    })();\n",
       "  </script>\n",
       "</div>\n",
       "    </div>\n",
       "  </div>\n"
      ],
      "text/plain": [
       "                 Title  Genre1     Genre2    Genre3   Genre4    Genre5 Genre6  \\\n",
       "0     Lets Fight Ghost   Crime      Drama   Fantasy   Horror   Romance    NaN   \n",
       "1  HOW TO BUILD A GIRL  Comedy        NaN       NaN      NaN       NaN    NaN   \n",
       "2           Centigrade   Drama   Thriller       NaN      NaN       NaN    NaN   \n",
       "\n",
       "  Genre7 Genre8 Genre9  ... Netflix Release Date  \\\n",
       "0    NaN    NaN    NaN  ...           2021-03-04   \n",
       "1    NaN    NaN    NaN  ...           2021-03-04   \n",
       "2    NaN    NaN    NaN  ...           2021-03-04   \n",
       "\n",
       "                         Production House  \\\n",
       "0               Canal+, Sandrew Metronome   \n",
       "1  Film 4, Monumental Pictures, Lionsgate   \n",
       "2                                     NaN   \n",
       "\n",
       "                             Netflix Link  \\\n",
       "0  https://www.netflix.com/watch/81415947   \n",
       "1  https://www.netflix.com/watch/81041267   \n",
       "2  https://www.netflix.com/watch/81305978   \n",
       "\n",
       "                              IMDb Link  \\\n",
       "0  https://www.imdb.com/title/tt1139797   \n",
       "1  https://www.imdb.com/title/tt4193072   \n",
       "2  https://www.imdb.com/title/tt8945942   \n",
       "\n",
       "                                             Summary IMDb Votes  \\\n",
       "0  A med student with a supernatural gift tries t...   205926.0   \n",
       "1  When nerdy Johanna moves to London, things get...     2838.0   \n",
       "2  Trapped in a frozen car during a blizzard, a p...     1720.0   \n",
       "\n",
       "                                               Image  \\\n",
       "0  https://occ-0-4708-64.1.nflxso.net/dnm/api/v6/...   \n",
       "1  https://occ-0-1081-999.1.nflxso.net/dnm/api/v6...   \n",
       "2  https://occ-0-1081-999.1.nflxso.net/dnm/api/v6...   \n",
       "\n",
       "                                              Poster  \\\n",
       "0  https://m.media-amazon.com/images/M/MV5BOWM4NT...   \n",
       "1  https://m.media-amazon.com/images/M/MV5BZGUyN2...   \n",
       "2  https://m.media-amazon.com/images/M/MV5BODM2MD...   \n",
       "\n",
       "                                  TMDb Trailer Trailer Site  \n",
       "0                                          NaN          NaN  \n",
       "1  https://www.youtube.com/watch?v=eIbcxPy4okQ      YouTube  \n",
       "2  https://www.youtube.com/watch?v=0RvV7TNUlkQ      YouTube  \n",
       "\n",
       "[3 rows x 88 columns]"
      ]
     },
     "execution_count": 14,
     "metadata": {},
     "output_type": "execute_result"
    }
   ],
   "source": [
    "df.head(3)"
   ]
  },
  {
   "cell_type": "code",
   "execution_count": null,
   "metadata": {
    "colab": {
     "base_uri": "https://localhost:8080/"
    },
    "id": "80NVFg01ZYOH",
    "outputId": "053ec704-9c26-4fe3-e83a-aeed01e36149"
   },
   "outputs": [
    {
     "data": {
      "text/plain": [
       "88"
      ]
     },
     "execution_count": 13,
     "metadata": {},
     "output_type": "execute_result"
    }
   ],
   "source": [
    "len(df.columns)"
   ]
  },
  {
   "cell_type": "markdown",
   "metadata": {
    "id": "KIn2R0WPaayW"
   },
   "source": [
    "**We have 88 columns in the raw dataset.**"
   ]
  },
  {
   "cell_type": "code",
   "execution_count": null,
   "metadata": {
    "colab": {
     "base_uri": "https://localhost:8080/"
    },
    "id": "6JUzz0vqag_k",
    "outputId": "80cb7d8d-693a-4861-ec1c-be343fbf1c17"
   },
   "outputs": [
    {
     "data": {
      "text/plain": [
       "Index(['Title', 'Genre1', 'Genre2', 'Genre3', 'Genre4', 'Genre5', 'Genre6',\n",
       "       'Genre7', 'Genre8', 'Genre9', 'Genre10', 'Genre11', 'Genre12', 'Tags',\n",
       "       'Lang1', 'Lang2', 'Lang3', 'Lang4', 'Lang5', 'Lang6', 'Lang7', 'Lang8',\n",
       "       'Lang9', 'Lang10', 'Lang11', 'Lang12', 'Lang13', 'Lang14',\n",
       "       'Series or Movie', 'Hidden Gem Score', 'County1', 'Country2', 'County2',\n",
       "       'Country3', 'County3', 'Country4', 'County4', 'Country5', 'County5',\n",
       "       'Country6', 'County6', 'Country7', 'County7', 'Country8', 'County8',\n",
       "       'Country9', 'County9', 'Country10', 'County10', 'Country11', 'County11',\n",
       "       'Country12', 'County12', 'Country13', 'County13', 'Country14',\n",
       "       'County14', 'Country15', 'County15', 'Country16', 'County16',\n",
       "       'Country17', 'County17', 'Country18', 'County18', 'Country19',\n",
       "       'Runtime', 'Director', 'Writer', 'Actors', 'View Rating', 'IMDb Score',\n",
       "       'Rotten Tomatoes Score', 'Metacritic Score', 'Awards Received',\n",
       "       'Awards Nominated For', 'Boxoffice', 'Release Date',\n",
       "       'Netflix Release Date', 'Production House', 'Netflix Link', 'IMDb Link',\n",
       "       'Summary', 'IMDb Votes', 'Image', 'Poster', 'TMDb Trailer',\n",
       "       'Trailer Site'],\n",
       "      dtype='object')"
      ]
     },
     "execution_count": 15,
     "metadata": {},
     "output_type": "execute_result"
    }
   ],
   "source": [
    "df.columns"
   ]
  },
  {
   "cell_type": "markdown",
   "metadata": {
    "id": "m187rb9NpoOl"
   },
   "source": [
    "#EDA/Feature Selection"
   ]
  },
  {
   "cell_type": "markdown",
   "metadata": {
    "id": "9bR9sswne-Is"
   },
   "source": [
    "Creating a function that gives us a missing values report, as we suspect that we would be using that a lot."
   ]
  },
  {
   "cell_type": "code",
   "execution_count": null,
   "metadata": {
    "id": "3sbnkvgQewGc"
   },
   "outputs": [],
   "source": [
    "def missing_values_report(df):\n",
    "    # Calculate the percentage of missing values for each column\n",
    "    missing_df = (df.isnull().sum() / len(df)) * 100\n",
    "\n",
    "    # Sort the percentages in descending order\n",
    "    missing_df_sorted = missing_df.sort_values(ascending=False)\n",
    "\n",
    "    return missing_df_sorted\n",
    "\n",
    "# Usage example:\n",
    "# missing_report = missing_values_report(your_dataframe)\n",
    "# print(missing_report.head(40))\n"
   ]
  },
  {
   "cell_type": "code",
   "execution_count": null,
   "metadata": {
    "colab": {
     "base_uri": "https://localhost:8080/"
    },
    "id": "Ya0i3PtUbIov",
    "outputId": "8a60d73f-e4dd-45d0-a466-22c202100dee"
   },
   "outputs": [
    {
     "data": {
      "text/plain": [
       "Lang14              99.993540\n",
       "Lang13              99.993540\n",
       "Lang12              99.993540\n",
       "Lang11              99.993540\n",
       "Genre12             99.993540\n",
       "Genre11             99.993540\n",
       "Genre10             99.980620\n",
       "Lang10              99.974160\n",
       "Genre9              99.935401\n",
       "Lang9               99.935401\n",
       "Lang8               99.857881\n",
       "Lang7               99.728682\n",
       "Genre8              99.664083\n",
       "Lang6               99.263566\n",
       "Genre7              98.824289\n",
       "Lang5               98.333333\n",
       "Genre6              96.698966\n",
       "Lang4               96.259690\n",
       "Genre5              91.272610\n",
       "Lang3               91.098191\n",
       "Country19           86.731266\n",
       "County18            81.795866\n",
       "Country18           79.605943\n",
       "Genre4              79.515504\n",
       "County17            78.178295\n",
       "Lang2               77.299742\n",
       "Country17           77.241602\n",
       "County16            76.698966\n",
       "Country16           76.143411\n",
       "County15            75.413437\n",
       "Country15           74.767442\n",
       "Boxoffice           74.114987\n",
       "County14            73.888889\n",
       "Country14           73.475452\n",
       "County13            73.113695\n",
       "Country13           72.603359\n",
       "County12            72.202842\n",
       "Metacritic Score    71.989664\n",
       "Country12           71.763566\n",
       "County11            71.311370\n",
       "dtype: float64"
      ]
     },
     "execution_count": 33,
     "metadata": {},
     "output_type": "execute_result"
    }
   ],
   "source": [
    "missingvalues = missing_values_report(df)\n",
    "missingvalues.head(40)"
   ]
  },
  {
   "cell_type": "code",
   "execution_count": null,
   "metadata": {
    "colab": {
     "base_uri": "https://localhost:8080/"
    },
    "id": "neH4KL0ScLLR",
    "outputId": "57a4e2b3-2f1d-4afa-9e76-e80934846c6a"
   },
   "outputs": [
    {
     "data": {
      "text/plain": [
       "County7                  62.771318\n",
       "Country7                 62.125323\n",
       "County6                  61.427649\n",
       "Awards Received          60.755814\n",
       "Country6                 60.342377\n",
       "County5                  59.399225\n",
       "Rotten Tomatoes Score    58.772610\n",
       "Genre3                   58.288114\n",
       "Country5                 58.158915\n",
       "County4                  56.505168\n",
       "Country4                 54.270026\n",
       "TMDb Trailer             53.527132\n",
       "Trailer Site             53.527132\n",
       "County3                  51.692506\n",
       "Awards Nominated For     50.510336\n",
       "Country3                 47.551680\n",
       "View Rating              45.374677\n",
       "County2                  43.598191\n",
       "Genre2                   34.114987\n",
       "Country2                 33.927649\n",
       "Director                 30.413437\n",
       "Writer                   27.971576\n",
       "Poster                   23.501292\n",
       "IMDb Link                14.877261\n",
       "Release Date             13.611111\n",
       "IMDb Votes               13.572351\n",
       "Hidden Gem Score         13.572351\n",
       "IMDb Score               13.559432\n",
       "Lang1                    12.500000\n",
       "Actors                   12.435401\n",
       "Genre1                   11.046512\n",
       "Tags                      0.432817\n",
       "County1                   0.122739\n",
       "Summary                   0.058140\n",
       "Runtime                   0.006460\n",
       "Image                     0.000000\n",
       "Series or Movie           0.000000\n",
       "Netflix Link              0.000000\n",
       "Netflix Release Date      0.000000\n",
       "Title                     0.000000\n",
       "dtype: float64"
      ]
     },
     "execution_count": 34,
     "metadata": {},
     "output_type": "execute_result"
    }
   ],
   "source": [
    "missingvalues.tail(40)"
   ]
  },
  {
   "cell_type": "code",
   "execution_count": null,
   "metadata": {
    "id": "MmuXKS1kieWv"
   },
   "outputs": [],
   "source": [
    "#df.rename(columns={'County1': 'Country'}, inplace=True)\n",
    "#fixing a typo"
   ]
  },
  {
   "cell_type": "markdown",
   "metadata": {
    "id": "zxfjNYNJcOjP"
   },
   "source": [
    "**We can see that out of these 88 columns, most of these have so many missing values (represented above in percentage), that they are irrelevant. We will drop these columns so that we have something to work with.**"
   ]
  },
  {
   "cell_type": "code",
   "execution_count": null,
   "metadata": {
    "id": "rrI8lUtSZj-Y"
   },
   "outputs": [],
   "source": [
    "columns_to_keep = ['Title', 'Genre1', 'Lang1', 'Hidden Gem Score', 'Country', 'Runtime',\n",
    "                   'View Rating', 'IMDb Score', 'Rotten Tomatoes Score',\n",
    "                   'Metacritic Score', 'IMDb Votes','Awards Received']"
   ]
  },
  {
   "cell_type": "code",
   "execution_count": null,
   "metadata": {
    "id": "tb6WB85XciRw"
   },
   "outputs": [],
   "source": [
    "df2 = df[columns_to_keep]"
   ]
  },
  {
   "cell_type": "code",
   "execution_count": null,
   "metadata": {
    "colab": {
     "base_uri": "https://localhost:8080/",
     "height": 104
    },
    "id": "8Mi0_CHOduV6",
    "outputId": "64fb0cb8-6f46-44c6-d1fc-74d494238057"
   },
   "outputs": [
    {
     "name": "stdout",
     "output_type": "stream",
     "text": [
      "Index(['Title', 'Genre1', 'Lang1', 'Hidden Gem Score', 'Country', 'Runtime',\n",
      "       'View Rating', 'IMDb Score', 'Rotten Tomatoes Score',\n",
      "       'Metacritic Score', 'IMDb Votes', 'Awards Received'],\n",
      "      dtype='object')\n"
     ]
    },
    {
     "data": {
      "application/vnd.google.colaboratory.intrinsic+json": {
       "type": "string"
      },
      "text/plain": [
       "'The number of columns in df2 is 12'"
      ]
     },
     "execution_count": 44,
     "metadata": {},
     "output_type": "execute_result"
    }
   ],
   "source": [
    "print(df2.columns)\n",
    "f\"The number of columns in df2 is {len(df2.columns)}\""
   ]
  },
  {
   "cell_type": "code",
   "execution_count": null,
   "metadata": {
    "colab": {
     "base_uri": "https://localhost:8080/",
     "height": 457
    },
    "id": "shpHPqNDiJK4",
    "outputId": "b0d6aafe-c8de-4c3f-bcd5-9457aaab8548"
   },
   "outputs": [
    {
     "data": {
      "text/html": [
       "\n",
       "  <div id=\"df-b33b1063-44c5-4b4b-ab46-27d347674807\" class=\"colab-df-container\">\n",
       "    <div>\n",
       "<style scoped>\n",
       "    .dataframe tbody tr th:only-of-type {\n",
       "        vertical-align: middle;\n",
       "    }\n",
       "\n",
       "    .dataframe tbody tr th {\n",
       "        vertical-align: top;\n",
       "    }\n",
       "\n",
       "    .dataframe thead th {\n",
       "        text-align: right;\n",
       "    }\n",
       "</style>\n",
       "<table border=\"1\" class=\"dataframe\">\n",
       "  <thead>\n",
       "    <tr style=\"text-align: right;\">\n",
       "      <th></th>\n",
       "      <th>Column Name</th>\n",
       "      <th>Description</th>\n",
       "      <th>Data Type</th>\n",
       "      <th>Example Values</th>\n",
       "    </tr>\n",
       "  </thead>\n",
       "  <tbody>\n",
       "    <tr>\n",
       "      <th>0</th>\n",
       "      <td>Unnamed: 0</td>\n",
       "      <td>Index or identifier for each row</td>\n",
       "      <td>Integer</td>\n",
       "      <td>0, 1, 2, 3...</td>\n",
       "    </tr>\n",
       "    <tr>\n",
       "      <th>1</th>\n",
       "      <td>Title</td>\n",
       "      <td>Title of a movie or TV show</td>\n",
       "      <td>String</td>\n",
       "      <td>\"Lets Fight Ghost\", \"HOW TO BUILD A GIRL\"...</td>\n",
       "    </tr>\n",
       "    <tr>\n",
       "      <th>2</th>\n",
       "      <td>Genre1</td>\n",
       "      <td>Primary genre of the movie or TV show</td>\n",
       "      <td>String</td>\n",
       "      <td>\"Crime\", \"Comedy\", \"Drama\"...</td>\n",
       "    </tr>\n",
       "    <tr>\n",
       "      <th>3</th>\n",
       "      <td>Lang1</td>\n",
       "      <td>Primary language of the movie or TV show</td>\n",
       "      <td>String</td>\n",
       "      <td>\"Swedish\", \"English\", \"Turkish\"...</td>\n",
       "    </tr>\n",
       "    <tr>\n",
       "      <th>4</th>\n",
       "      <td>Hidden Gem Score</td>\n",
       "      <td>Score rating movies or TV shows as hidden gems</td>\n",
       "      <td>Float</td>\n",
       "      <td>4.3, 7.0, 6.4...</td>\n",
       "    </tr>\n",
       "    <tr>\n",
       "      <th>5</th>\n",
       "      <td>Country</td>\n",
       "      <td>Country of origin of the movie or TV show</td>\n",
       "      <td>String</td>\n",
       "      <td>\"Thailand\", \"Canada\", \"Belgium\"...</td>\n",
       "    </tr>\n",
       "    <tr>\n",
       "      <th>6</th>\n",
       "      <td>Runtime</td>\n",
       "      <td>Duration of the movie or TV show</td>\n",
       "      <td>String</td>\n",
       "      <td>\"&lt; 30 minutes\", \"1-2 hour\"...</td>\n",
       "    </tr>\n",
       "    <tr>\n",
       "      <th>7</th>\n",
       "      <td>View Rating</td>\n",
       "      <td>Viewer rating of the movie or TV show</td>\n",
       "      <td>String</td>\n",
       "      <td>\"R\", \"Unrated\"...</td>\n",
       "    </tr>\n",
       "    <tr>\n",
       "      <th>8</th>\n",
       "      <td>IMDb Score</td>\n",
       "      <td>IMDb score of the movie or TV show</td>\n",
       "      <td>Float</td>\n",
       "      <td>7.9, 5.8, 6.5...</td>\n",
       "    </tr>\n",
       "    <tr>\n",
       "      <th>9</th>\n",
       "      <td>Rotten Tomatoes Score</td>\n",
       "      <td>Rotten Tomatoes score of the movie or TV show</td>\n",
       "      <td>Float</td>\n",
       "      <td>98.0, 79.0, NaN...</td>\n",
       "    </tr>\n",
       "    <tr>\n",
       "      <th>10</th>\n",
       "      <td>Metacritic Score</td>\n",
       "      <td>Metacritic score of the movie or TV show</td>\n",
       "      <td>Float</td>\n",
       "      <td>82.0, 69.0, 46.0...</td>\n",
       "    </tr>\n",
       "    <tr>\n",
       "      <th>11</th>\n",
       "      <td>IMDb Votes</td>\n",
       "      <td>Number of votes the movie or TV show received ...</td>\n",
       "      <td>Float</td>\n",
       "      <td>205926.0, 2838.0, 1720.0...</td>\n",
       "    </tr>\n",
       "    <tr>\n",
       "      <th>12</th>\n",
       "      <td>Awards Received</td>\n",
       "      <td>Number of awards the movie or TV show has rece...</td>\n",
       "      <td>Float</td>\n",
       "      <td>74.0, 1.0, NaN...</td>\n",
       "    </tr>\n",
       "  </tbody>\n",
       "</table>\n",
       "</div>\n",
       "    <div class=\"colab-df-buttons\">\n",
       "\n",
       "  <div class=\"colab-df-container\">\n",
       "    <button class=\"colab-df-convert\" onclick=\"convertToInteractive('df-b33b1063-44c5-4b4b-ab46-27d347674807')\"\n",
       "            title=\"Convert this dataframe to an interactive table.\"\n",
       "            style=\"display:none;\">\n",
       "\n",
       "  <svg xmlns=\"http://www.w3.org/2000/svg\" height=\"24px\" viewBox=\"0 -960 960 960\">\n",
       "    <path d=\"M120-120v-720h720v720H120Zm60-500h600v-160H180v160Zm220 220h160v-160H400v160Zm0 220h160v-160H400v160ZM180-400h160v-160H180v160Zm440 0h160v-160H620v160ZM180-180h160v-160H180v160Zm440 0h160v-160H620v160Z\"/>\n",
       "  </svg>\n",
       "    </button>\n",
       "\n",
       "  <style>\n",
       "    .colab-df-container {\n",
       "      display:flex;\n",
       "      gap: 12px;\n",
       "    }\n",
       "\n",
       "    .colab-df-convert {\n",
       "      background-color: #E8F0FE;\n",
       "      border: none;\n",
       "      border-radius: 50%;\n",
       "      cursor: pointer;\n",
       "      display: none;\n",
       "      fill: #1967D2;\n",
       "      height: 32px;\n",
       "      padding: 0 0 0 0;\n",
       "      width: 32px;\n",
       "    }\n",
       "\n",
       "    .colab-df-convert:hover {\n",
       "      background-color: #E2EBFA;\n",
       "      box-shadow: 0px 1px 2px rgba(60, 64, 67, 0.3), 0px 1px 3px 1px rgba(60, 64, 67, 0.15);\n",
       "      fill: #174EA6;\n",
       "    }\n",
       "\n",
       "    .colab-df-buttons div {\n",
       "      margin-bottom: 4px;\n",
       "    }\n",
       "\n",
       "    [theme=dark] .colab-df-convert {\n",
       "      background-color: #3B4455;\n",
       "      fill: #D2E3FC;\n",
       "    }\n",
       "\n",
       "    [theme=dark] .colab-df-convert:hover {\n",
       "      background-color: #434B5C;\n",
       "      box-shadow: 0px 1px 3px 1px rgba(0, 0, 0, 0.15);\n",
       "      filter: drop-shadow(0px 1px 2px rgba(0, 0, 0, 0.3));\n",
       "      fill: #FFFFFF;\n",
       "    }\n",
       "  </style>\n",
       "\n",
       "    <script>\n",
       "      const buttonEl =\n",
       "        document.querySelector('#df-b33b1063-44c5-4b4b-ab46-27d347674807 button.colab-df-convert');\n",
       "      buttonEl.style.display =\n",
       "        google.colab.kernel.accessAllowed ? 'block' : 'none';\n",
       "\n",
       "      async function convertToInteractive(key) {\n",
       "        const element = document.querySelector('#df-b33b1063-44c5-4b4b-ab46-27d347674807');\n",
       "        const dataTable =\n",
       "          await google.colab.kernel.invokeFunction('convertToInteractive',\n",
       "                                                    [key], {});\n",
       "        if (!dataTable) return;\n",
       "\n",
       "        const docLinkHtml = 'Like what you see? Visit the ' +\n",
       "          '<a target=\"_blank\" href=https://colab.research.google.com/notebooks/data_table.ipynb>data table notebook</a>'\n",
       "          + ' to learn more about interactive tables.';\n",
       "        element.innerHTML = '';\n",
       "        dataTable['output_type'] = 'display_data';\n",
       "        await google.colab.output.renderOutput(dataTable, element);\n",
       "        const docLink = document.createElement('div');\n",
       "        docLink.innerHTML = docLinkHtml;\n",
       "        element.appendChild(docLink);\n",
       "      }\n",
       "    </script>\n",
       "  </div>\n",
       "\n",
       "\n",
       "<div id=\"df-d40f353c-1ba5-4880-8383-31452572cf34\">\n",
       "  <button class=\"colab-df-quickchart\" onclick=\"quickchart('df-d40f353c-1ba5-4880-8383-31452572cf34')\"\n",
       "            title=\"Suggest charts\"\n",
       "            style=\"display:none;\">\n",
       "\n",
       "<svg xmlns=\"http://www.w3.org/2000/svg\" height=\"24px\"viewBox=\"0 0 24 24\"\n",
       "     width=\"24px\">\n",
       "    <g>\n",
       "        <path d=\"M19 3H5c-1.1 0-2 .9-2 2v14c0 1.1.9 2 2 2h14c1.1 0 2-.9 2-2V5c0-1.1-.9-2-2-2zM9 17H7v-7h2v7zm4 0h-2V7h2v10zm4 0h-2v-4h2v4z\"/>\n",
       "    </g>\n",
       "</svg>\n",
       "  </button>\n",
       "\n",
       "<style>\n",
       "  .colab-df-quickchart {\n",
       "      --bg-color: #E8F0FE;\n",
       "      --fill-color: #1967D2;\n",
       "      --hover-bg-color: #E2EBFA;\n",
       "      --hover-fill-color: #174EA6;\n",
       "      --disabled-fill-color: #AAA;\n",
       "      --disabled-bg-color: #DDD;\n",
       "  }\n",
       "\n",
       "  [theme=dark] .colab-df-quickchart {\n",
       "      --bg-color: #3B4455;\n",
       "      --fill-color: #D2E3FC;\n",
       "      --hover-bg-color: #434B5C;\n",
       "      --hover-fill-color: #FFFFFF;\n",
       "      --disabled-bg-color: #3B4455;\n",
       "      --disabled-fill-color: #666;\n",
       "  }\n",
       "\n",
       "  .colab-df-quickchart {\n",
       "    background-color: var(--bg-color);\n",
       "    border: none;\n",
       "    border-radius: 50%;\n",
       "    cursor: pointer;\n",
       "    display: none;\n",
       "    fill: var(--fill-color);\n",
       "    height: 32px;\n",
       "    padding: 0;\n",
       "    width: 32px;\n",
       "  }\n",
       "\n",
       "  .colab-df-quickchart:hover {\n",
       "    background-color: var(--hover-bg-color);\n",
       "    box-shadow: 0 1px 2px rgba(60, 64, 67, 0.3), 0 1px 3px 1px rgba(60, 64, 67, 0.15);\n",
       "    fill: var(--button-hover-fill-color);\n",
       "  }\n",
       "\n",
       "  .colab-df-quickchart-complete:disabled,\n",
       "  .colab-df-quickchart-complete:disabled:hover {\n",
       "    background-color: var(--disabled-bg-color);\n",
       "    fill: var(--disabled-fill-color);\n",
       "    box-shadow: none;\n",
       "  }\n",
       "\n",
       "  .colab-df-spinner {\n",
       "    border: 2px solid var(--fill-color);\n",
       "    border-color: transparent;\n",
       "    border-bottom-color: var(--fill-color);\n",
       "    animation:\n",
       "      spin 1s steps(1) infinite;\n",
       "  }\n",
       "\n",
       "  @keyframes spin {\n",
       "    0% {\n",
       "      border-color: transparent;\n",
       "      border-bottom-color: var(--fill-color);\n",
       "      border-left-color: var(--fill-color);\n",
       "    }\n",
       "    20% {\n",
       "      border-color: transparent;\n",
       "      border-left-color: var(--fill-color);\n",
       "      border-top-color: var(--fill-color);\n",
       "    }\n",
       "    30% {\n",
       "      border-color: transparent;\n",
       "      border-left-color: var(--fill-color);\n",
       "      border-top-color: var(--fill-color);\n",
       "      border-right-color: var(--fill-color);\n",
       "    }\n",
       "    40% {\n",
       "      border-color: transparent;\n",
       "      border-right-color: var(--fill-color);\n",
       "      border-top-color: var(--fill-color);\n",
       "    }\n",
       "    60% {\n",
       "      border-color: transparent;\n",
       "      border-right-color: var(--fill-color);\n",
       "    }\n",
       "    80% {\n",
       "      border-color: transparent;\n",
       "      border-right-color: var(--fill-color);\n",
       "      border-bottom-color: var(--fill-color);\n",
       "    }\n",
       "    90% {\n",
       "      border-color: transparent;\n",
       "      border-bottom-color: var(--fill-color);\n",
       "    }\n",
       "  }\n",
       "</style>\n",
       "\n",
       "  <script>\n",
       "    async function quickchart(key) {\n",
       "      const quickchartButtonEl =\n",
       "        document.querySelector('#' + key + ' button');\n",
       "      quickchartButtonEl.disabled = true;  // To prevent multiple clicks.\n",
       "      quickchartButtonEl.classList.add('colab-df-spinner');\n",
       "      try {\n",
       "        const charts = await google.colab.kernel.invokeFunction(\n",
       "            'suggestCharts', [key], {});\n",
       "      } catch (error) {\n",
       "        console.error('Error during call to suggestCharts:', error);\n",
       "      }\n",
       "      quickchartButtonEl.classList.remove('colab-df-spinner');\n",
       "      quickchartButtonEl.classList.add('colab-df-quickchart-complete');\n",
       "    }\n",
       "    (() => {\n",
       "      let quickchartButtonEl =\n",
       "        document.querySelector('#df-d40f353c-1ba5-4880-8383-31452572cf34 button');\n",
       "      quickchartButtonEl.style.display =\n",
       "        google.colab.kernel.accessAllowed ? 'block' : 'none';\n",
       "    })();\n",
       "  </script>\n",
       "</div>\n",
       "    </div>\n",
       "  </div>\n"
      ],
      "text/plain": [
       "              Column Name                                        Description  \\\n",
       "0              Unnamed: 0                   Index or identifier for each row   \n",
       "1                   Title                        Title of a movie or TV show   \n",
       "2                  Genre1              Primary genre of the movie or TV show   \n",
       "3                   Lang1           Primary language of the movie or TV show   \n",
       "4        Hidden Gem Score     Score rating movies or TV shows as hidden gems   \n",
       "5                 Country          Country of origin of the movie or TV show   \n",
       "6                 Runtime                   Duration of the movie or TV show   \n",
       "7             View Rating              Viewer rating of the movie or TV show   \n",
       "8              IMDb Score                 IMDb score of the movie or TV show   \n",
       "9   Rotten Tomatoes Score      Rotten Tomatoes score of the movie or TV show   \n",
       "10       Metacritic Score           Metacritic score of the movie or TV show   \n",
       "11             IMDb Votes  Number of votes the movie or TV show received ...   \n",
       "12        Awards Received  Number of awards the movie or TV show has rece...   \n",
       "\n",
       "   Data Type                                Example Values  \n",
       "0    Integer                                 0, 1, 2, 3...  \n",
       "1     String  \"Lets Fight Ghost\", \"HOW TO BUILD A GIRL\"...  \n",
       "2     String                 \"Crime\", \"Comedy\", \"Drama\"...  \n",
       "3     String            \"Swedish\", \"English\", \"Turkish\"...  \n",
       "4      Float                              4.3, 7.0, 6.4...  \n",
       "5     String            \"Thailand\", \"Canada\", \"Belgium\"...  \n",
       "6     String                 \"< 30 minutes\", \"1-2 hour\"...  \n",
       "7     String                             \"R\", \"Unrated\"...  \n",
       "8      Float                              7.9, 5.8, 6.5...  \n",
       "9      Float                            98.0, 79.0, NaN...  \n",
       "10     Float                           82.0, 69.0, 46.0...  \n",
       "11     Float                   205926.0, 2838.0, 1720.0...  \n",
       "12     Float                             74.0, 1.0, NaN...  "
      ]
     },
     "execution_count": 37,
     "metadata": {},
     "output_type": "execute_result"
    }
   ],
   "source": [
    "pd.read_csv('data_dictionary.csv')"
   ]
  },
  {
   "cell_type": "markdown",
   "metadata": {
    "id": "viyoIsdoeS5w"
   },
   "source": [
    "Now that we have a working dataset, let's do some EDA on it"
   ]
  },
  {
   "cell_type": "markdown",
   "metadata": {
    "id": "eLzGePvYegnk"
   },
   "source": [
    "Checking for missing values:"
   ]
  },
  {
   "cell_type": "code",
   "execution_count": null,
   "metadata": {
    "colab": {
     "base_uri": "https://localhost:8080/"
    },
    "id": "DaDOSuBkefOq",
    "outputId": "9e487f42-fc90-4347-a157-d5e4e3aa2cbc"
   },
   "outputs": [
    {
     "data": {
      "text/plain": [
       "Metacritic Score         71.989664\n",
       "Awards Received          60.755814\n",
       "Rotten Tomatoes Score    58.772610\n",
       "View Rating              45.374677\n",
       "Hidden Gem Score         13.572351\n",
       "IMDb Votes               13.572351\n",
       "IMDb Score               13.559432\n",
       "Lang1                    12.500000\n",
       "Genre1                   11.046512\n",
       "Country                   0.122739\n",
       "Runtime                   0.006460\n",
       "Title                     0.000000\n",
       "dtype: float64"
      ]
     },
     "execution_count": 45,
     "metadata": {},
     "output_type": "execute_result"
    }
   ],
   "source": [
    "missingdf2 = missing_values_report(df2)\n",
    "missingdf2"
   ]
  },
  {
   "cell_type": "markdown",
   "metadata": {
    "id": "WJ5mgXQ8jUb2"
   },
   "source": [
    "Some of our most important numerical values have a bunch of missing values, we will have to deal with them"
   ]
  },
  {
   "cell_type": "code",
   "execution_count": null,
   "metadata": {
    "colab": {
     "base_uri": "https://localhost:8080/",
     "height": 300
    },
    "id": "UiIilOgHgqsA",
    "outputId": "c3c5f840-8e7c-4e83-dd6b-71c24891bb8f"
   },
   "outputs": [
    {
     "data": {
      "text/html": [
       "\n",
       "  <div id=\"df-2aa5fccd-47d3-4bb0-adba-50b9cd7d2f7f\" class=\"colab-df-container\">\n",
       "    <div>\n",
       "<style scoped>\n",
       "    .dataframe tbody tr th:only-of-type {\n",
       "        vertical-align: middle;\n",
       "    }\n",
       "\n",
       "    .dataframe tbody tr th {\n",
       "        vertical-align: top;\n",
       "    }\n",
       "\n",
       "    .dataframe thead th {\n",
       "        text-align: right;\n",
       "    }\n",
       "</style>\n",
       "<table border=\"1\" class=\"dataframe\">\n",
       "  <thead>\n",
       "    <tr style=\"text-align: right;\">\n",
       "      <th></th>\n",
       "      <th>Hidden Gem Score</th>\n",
       "      <th>IMDb Score</th>\n",
       "      <th>Rotten Tomatoes Score</th>\n",
       "      <th>Metacritic Score</th>\n",
       "      <th>IMDb Votes</th>\n",
       "      <th>Awards Received</th>\n",
       "    </tr>\n",
       "  </thead>\n",
       "  <tbody>\n",
       "    <tr>\n",
       "      <th>count</th>\n",
       "      <td>13379.000000</td>\n",
       "      <td>13381.000000</td>\n",
       "      <td>6382.000000</td>\n",
       "      <td>4336.000000</td>\n",
       "      <td>1.337900e+04</td>\n",
       "      <td>6075.000000</td>\n",
       "    </tr>\n",
       "    <tr>\n",
       "      <th>mean</th>\n",
       "      <td>5.937551</td>\n",
       "      <td>6.496054</td>\n",
       "      <td>59.523034</td>\n",
       "      <td>56.813653</td>\n",
       "      <td>4.272841e+04</td>\n",
       "      <td>8.764444</td>\n",
       "    </tr>\n",
       "    <tr>\n",
       "      <th>std</th>\n",
       "      <td>2.250202</td>\n",
       "      <td>1.146910</td>\n",
       "      <td>26.999173</td>\n",
       "      <td>17.582545</td>\n",
       "      <td>1.257012e+05</td>\n",
       "      <td>18.311171</td>\n",
       "    </tr>\n",
       "    <tr>\n",
       "      <th>min</th>\n",
       "      <td>0.600000</td>\n",
       "      <td>1.000000</td>\n",
       "      <td>0.000000</td>\n",
       "      <td>5.000000</td>\n",
       "      <td>5.000000e+00</td>\n",
       "      <td>1.000000</td>\n",
       "    </tr>\n",
       "    <tr>\n",
       "      <th>25%</th>\n",
       "      <td>3.800000</td>\n",
       "      <td>5.800000</td>\n",
       "      <td>38.000000</td>\n",
       "      <td>44.000000</td>\n",
       "      <td>4.035000e+02</td>\n",
       "      <td>1.000000</td>\n",
       "    </tr>\n",
       "    <tr>\n",
       "      <th>50%</th>\n",
       "      <td>6.800000</td>\n",
       "      <td>6.600000</td>\n",
       "      <td>64.000000</td>\n",
       "      <td>57.000000</td>\n",
       "      <td>2.322000e+03</td>\n",
       "      <td>3.000000</td>\n",
       "    </tr>\n",
       "    <tr>\n",
       "      <th>75%</th>\n",
       "      <td>7.900000</td>\n",
       "      <td>7.300000</td>\n",
       "      <td>83.000000</td>\n",
       "      <td>70.000000</td>\n",
       "      <td>2.089050e+04</td>\n",
       "      <td>8.000000</td>\n",
       "    </tr>\n",
       "    <tr>\n",
       "      <th>max</th>\n",
       "      <td>9.800000</td>\n",
       "      <td>9.700000</td>\n",
       "      <td>100.000000</td>\n",
       "      <td>100.000000</td>\n",
       "      <td>2.354197e+06</td>\n",
       "      <td>300.000000</td>\n",
       "    </tr>\n",
       "  </tbody>\n",
       "</table>\n",
       "</div>\n",
       "    <div class=\"colab-df-buttons\">\n",
       "\n",
       "  <div class=\"colab-df-container\">\n",
       "    <button class=\"colab-df-convert\" onclick=\"convertToInteractive('df-2aa5fccd-47d3-4bb0-adba-50b9cd7d2f7f')\"\n",
       "            title=\"Convert this dataframe to an interactive table.\"\n",
       "            style=\"display:none;\">\n",
       "\n",
       "  <svg xmlns=\"http://www.w3.org/2000/svg\" height=\"24px\" viewBox=\"0 -960 960 960\">\n",
       "    <path d=\"M120-120v-720h720v720H120Zm60-500h600v-160H180v160Zm220 220h160v-160H400v160Zm0 220h160v-160H400v160ZM180-400h160v-160H180v160Zm440 0h160v-160H620v160ZM180-180h160v-160H180v160Zm440 0h160v-160H620v160Z\"/>\n",
       "  </svg>\n",
       "    </button>\n",
       "\n",
       "  <style>\n",
       "    .colab-df-container {\n",
       "      display:flex;\n",
       "      gap: 12px;\n",
       "    }\n",
       "\n",
       "    .colab-df-convert {\n",
       "      background-color: #E8F0FE;\n",
       "      border: none;\n",
       "      border-radius: 50%;\n",
       "      cursor: pointer;\n",
       "      display: none;\n",
       "      fill: #1967D2;\n",
       "      height: 32px;\n",
       "      padding: 0 0 0 0;\n",
       "      width: 32px;\n",
       "    }\n",
       "\n",
       "    .colab-df-convert:hover {\n",
       "      background-color: #E2EBFA;\n",
       "      box-shadow: 0px 1px 2px rgba(60, 64, 67, 0.3), 0px 1px 3px 1px rgba(60, 64, 67, 0.15);\n",
       "      fill: #174EA6;\n",
       "    }\n",
       "\n",
       "    .colab-df-buttons div {\n",
       "      margin-bottom: 4px;\n",
       "    }\n",
       "\n",
       "    [theme=dark] .colab-df-convert {\n",
       "      background-color: #3B4455;\n",
       "      fill: #D2E3FC;\n",
       "    }\n",
       "\n",
       "    [theme=dark] .colab-df-convert:hover {\n",
       "      background-color: #434B5C;\n",
       "      box-shadow: 0px 1px 3px 1px rgba(0, 0, 0, 0.15);\n",
       "      filter: drop-shadow(0px 1px 2px rgba(0, 0, 0, 0.3));\n",
       "      fill: #FFFFFF;\n",
       "    }\n",
       "  </style>\n",
       "\n",
       "    <script>\n",
       "      const buttonEl =\n",
       "        document.querySelector('#df-2aa5fccd-47d3-4bb0-adba-50b9cd7d2f7f button.colab-df-convert');\n",
       "      buttonEl.style.display =\n",
       "        google.colab.kernel.accessAllowed ? 'block' : 'none';\n",
       "\n",
       "      async function convertToInteractive(key) {\n",
       "        const element = document.querySelector('#df-2aa5fccd-47d3-4bb0-adba-50b9cd7d2f7f');\n",
       "        const dataTable =\n",
       "          await google.colab.kernel.invokeFunction('convertToInteractive',\n",
       "                                                    [key], {});\n",
       "        if (!dataTable) return;\n",
       "\n",
       "        const docLinkHtml = 'Like what you see? Visit the ' +\n",
       "          '<a target=\"_blank\" href=https://colab.research.google.com/notebooks/data_table.ipynb>data table notebook</a>'\n",
       "          + ' to learn more about interactive tables.';\n",
       "        element.innerHTML = '';\n",
       "        dataTable['output_type'] = 'display_data';\n",
       "        await google.colab.output.renderOutput(dataTable, element);\n",
       "        const docLink = document.createElement('div');\n",
       "        docLink.innerHTML = docLinkHtml;\n",
       "        element.appendChild(docLink);\n",
       "      }\n",
       "    </script>\n",
       "  </div>\n",
       "\n",
       "\n",
       "<div id=\"df-99cce4fc-a8f4-44f2-a52f-d0836b10572b\">\n",
       "  <button class=\"colab-df-quickchart\" onclick=\"quickchart('df-99cce4fc-a8f4-44f2-a52f-d0836b10572b')\"\n",
       "            title=\"Suggest charts\"\n",
       "            style=\"display:none;\">\n",
       "\n",
       "<svg xmlns=\"http://www.w3.org/2000/svg\" height=\"24px\"viewBox=\"0 0 24 24\"\n",
       "     width=\"24px\">\n",
       "    <g>\n",
       "        <path d=\"M19 3H5c-1.1 0-2 .9-2 2v14c0 1.1.9 2 2 2h14c1.1 0 2-.9 2-2V5c0-1.1-.9-2-2-2zM9 17H7v-7h2v7zm4 0h-2V7h2v10zm4 0h-2v-4h2v4z\"/>\n",
       "    </g>\n",
       "</svg>\n",
       "  </button>\n",
       "\n",
       "<style>\n",
       "  .colab-df-quickchart {\n",
       "      --bg-color: #E8F0FE;\n",
       "      --fill-color: #1967D2;\n",
       "      --hover-bg-color: #E2EBFA;\n",
       "      --hover-fill-color: #174EA6;\n",
       "      --disabled-fill-color: #AAA;\n",
       "      --disabled-bg-color: #DDD;\n",
       "  }\n",
       "\n",
       "  [theme=dark] .colab-df-quickchart {\n",
       "      --bg-color: #3B4455;\n",
       "      --fill-color: #D2E3FC;\n",
       "      --hover-bg-color: #434B5C;\n",
       "      --hover-fill-color: #FFFFFF;\n",
       "      --disabled-bg-color: #3B4455;\n",
       "      --disabled-fill-color: #666;\n",
       "  }\n",
       "\n",
       "  .colab-df-quickchart {\n",
       "    background-color: var(--bg-color);\n",
       "    border: none;\n",
       "    border-radius: 50%;\n",
       "    cursor: pointer;\n",
       "    display: none;\n",
       "    fill: var(--fill-color);\n",
       "    height: 32px;\n",
       "    padding: 0;\n",
       "    width: 32px;\n",
       "  }\n",
       "\n",
       "  .colab-df-quickchart:hover {\n",
       "    background-color: var(--hover-bg-color);\n",
       "    box-shadow: 0 1px 2px rgba(60, 64, 67, 0.3), 0 1px 3px 1px rgba(60, 64, 67, 0.15);\n",
       "    fill: var(--button-hover-fill-color);\n",
       "  }\n",
       "\n",
       "  .colab-df-quickchart-complete:disabled,\n",
       "  .colab-df-quickchart-complete:disabled:hover {\n",
       "    background-color: var(--disabled-bg-color);\n",
       "    fill: var(--disabled-fill-color);\n",
       "    box-shadow: none;\n",
       "  }\n",
       "\n",
       "  .colab-df-spinner {\n",
       "    border: 2px solid var(--fill-color);\n",
       "    border-color: transparent;\n",
       "    border-bottom-color: var(--fill-color);\n",
       "    animation:\n",
       "      spin 1s steps(1) infinite;\n",
       "  }\n",
       "\n",
       "  @keyframes spin {\n",
       "    0% {\n",
       "      border-color: transparent;\n",
       "      border-bottom-color: var(--fill-color);\n",
       "      border-left-color: var(--fill-color);\n",
       "    }\n",
       "    20% {\n",
       "      border-color: transparent;\n",
       "      border-left-color: var(--fill-color);\n",
       "      border-top-color: var(--fill-color);\n",
       "    }\n",
       "    30% {\n",
       "      border-color: transparent;\n",
       "      border-left-color: var(--fill-color);\n",
       "      border-top-color: var(--fill-color);\n",
       "      border-right-color: var(--fill-color);\n",
       "    }\n",
       "    40% {\n",
       "      border-color: transparent;\n",
       "      border-right-color: var(--fill-color);\n",
       "      border-top-color: var(--fill-color);\n",
       "    }\n",
       "    60% {\n",
       "      border-color: transparent;\n",
       "      border-right-color: var(--fill-color);\n",
       "    }\n",
       "    80% {\n",
       "      border-color: transparent;\n",
       "      border-right-color: var(--fill-color);\n",
       "      border-bottom-color: var(--fill-color);\n",
       "    }\n",
       "    90% {\n",
       "      border-color: transparent;\n",
       "      border-bottom-color: var(--fill-color);\n",
       "    }\n",
       "  }\n",
       "</style>\n",
       "\n",
       "  <script>\n",
       "    async function quickchart(key) {\n",
       "      const quickchartButtonEl =\n",
       "        document.querySelector('#' + key + ' button');\n",
       "      quickchartButtonEl.disabled = true;  // To prevent multiple clicks.\n",
       "      quickchartButtonEl.classList.add('colab-df-spinner');\n",
       "      try {\n",
       "        const charts = await google.colab.kernel.invokeFunction(\n",
       "            'suggestCharts', [key], {});\n",
       "      } catch (error) {\n",
       "        console.error('Error during call to suggestCharts:', error);\n",
       "      }\n",
       "      quickchartButtonEl.classList.remove('colab-df-spinner');\n",
       "      quickchartButtonEl.classList.add('colab-df-quickchart-complete');\n",
       "    }\n",
       "    (() => {\n",
       "      let quickchartButtonEl =\n",
       "        document.querySelector('#df-99cce4fc-a8f4-44f2-a52f-d0836b10572b button');\n",
       "      quickchartButtonEl.style.display =\n",
       "        google.colab.kernel.accessAllowed ? 'block' : 'none';\n",
       "    })();\n",
       "  </script>\n",
       "</div>\n",
       "    </div>\n",
       "  </div>\n"
      ],
      "text/plain": [
       "       Hidden Gem Score    IMDb Score  Rotten Tomatoes Score  \\\n",
       "count      13379.000000  13381.000000            6382.000000   \n",
       "mean           5.937551      6.496054              59.523034   \n",
       "std            2.250202      1.146910              26.999173   \n",
       "min            0.600000      1.000000               0.000000   \n",
       "25%            3.800000      5.800000              38.000000   \n",
       "50%            6.800000      6.600000              64.000000   \n",
       "75%            7.900000      7.300000              83.000000   \n",
       "max            9.800000      9.700000             100.000000   \n",
       "\n",
       "       Metacritic Score    IMDb Votes  Awards Received  \n",
       "count       4336.000000  1.337900e+04      6075.000000  \n",
       "mean          56.813653  4.272841e+04         8.764444  \n",
       "std           17.582545  1.257012e+05        18.311171  \n",
       "min            5.000000  5.000000e+00         1.000000  \n",
       "25%           44.000000  4.035000e+02         1.000000  \n",
       "50%           57.000000  2.322000e+03         3.000000  \n",
       "75%           70.000000  2.089050e+04         8.000000  \n",
       "max          100.000000  2.354197e+06       300.000000  "
      ]
     },
     "execution_count": 52,
     "metadata": {},
     "output_type": "execute_result"
    }
   ],
   "source": [
    "df2.describe()"
   ]
  },
  {
   "cell_type": "markdown",
   "metadata": {
    "id": "EV0E2inMmG-m"
   },
   "source": [
    "We should look for any multicollinearity before dealing with missing values."
   ]
  },
  {
   "cell_type": "code",
   "execution_count": null,
   "metadata": {
    "colab": {
     "base_uri": "https://localhost:8080/",
     "height": 899
    },
    "id": "7YLqBGLak9Hm",
    "outputId": "3c1595a1-ec54-4d91-92c2-2faa6ceefb2c"
   },
   "outputs": [
    {
     "name": "stderr",
     "output_type": "stream",
     "text": [
      "<ipython-input-53-5017219e7492>:1: FutureWarning: The default value of numeric_only in DataFrame.corr is deprecated. In a future version, it will default to False. Select only valid columns or specify the value of numeric_only to silence this warning.\n",
      "  corr_matrix = df2.corr()\n"
     ]
    },
    {
     "data": {
      "image/png": "[encoded data removed]",
      "text/plain": [
       "<Figure size 1200x800 with 2 Axes>"
      ]
     },
     "metadata": {},
     "output_type": "display_data"
    }
   ],
   "source": [
    "corr_matrix = df2.corr()\n",
    "plt.figure(figsize=(12, 8))\n",
    "sns.heatmap(corr_matrix, annot=True, cmap='coolwarm', fmt=\".2f\", linewidths=.5)\n",
    "plt.title('Correlation Matrix Heatmap')\n",
    "\n",
    "# Show the plot\n",
    "plt.show()\n"
   ]
  },
  {
   "cell_type": "markdown",
   "metadata": {
    "id": "782jdcQHntIL"
   },
   "source": [
    "We can drop metacritic score, as it has collinearity with rotten tomatoes score, and has higher number of missing values."
   ]
  },
  {
   "cell_type": "code",
   "execution_count": null,
   "metadata": {
    "colab": {
     "base_uri": "https://localhost:8080/",
     "height": 275
    },
    "id": "a7uHi69foXcC",
    "outputId": "0c15d962-37b2-4460-af8e-3cc4fe545bbe"
   },
   "outputs": [
    {
     "data": {
      "text/html": [
       "\n",
       "  <div id=\"df-45d6885a-c591-4240-9ef8-9460ac2ab069\" class=\"colab-df-container\">\n",
       "    <div>\n",
       "<style scoped>\n",
       "    .dataframe tbody tr th:only-of-type {\n",
       "        vertical-align: middle;\n",
       "    }\n",
       "\n",
       "    .dataframe tbody tr th {\n",
       "        vertical-align: top;\n",
       "    }\n",
       "\n",
       "    .dataframe thead th {\n",
       "        text-align: right;\n",
       "    }\n",
       "</style>\n",
       "<table border=\"1\" class=\"dataframe\">\n",
       "  <thead>\n",
       "    <tr style=\"text-align: right;\">\n",
       "      <th></th>\n",
       "      <th>Title</th>\n",
       "      <th>Genre1</th>\n",
       "      <th>Lang1</th>\n",
       "      <th>Hidden Gem Score</th>\n",
       "      <th>Country</th>\n",
       "      <th>Runtime</th>\n",
       "      <th>View Rating</th>\n",
       "      <th>IMDb Score</th>\n",
       "      <th>Rotten Tomatoes Score</th>\n",
       "      <th>IMDb Votes</th>\n",
       "      <th>Awards Received</th>\n",
       "    </tr>\n",
       "  </thead>\n",
       "  <tbody>\n",
       "    <tr>\n",
       "      <th>0</th>\n",
       "      <td>Lets Fight Ghost</td>\n",
       "      <td>Crime</td>\n",
       "      <td>Swedish</td>\n",
       "      <td>4.3</td>\n",
       "      <td>Thailand</td>\n",
       "      <td>&lt; 30 minutes</td>\n",
       "      <td>R</td>\n",
       "      <td>7.9</td>\n",
       "      <td>98.0</td>\n",
       "      <td>205926.0</td>\n",
       "      <td>74.0</td>\n",
       "    </tr>\n",
       "    <tr>\n",
       "      <th>1</th>\n",
       "      <td>HOW TO BUILD A GIRL</td>\n",
       "      <td>Comedy</td>\n",
       "      <td>English</td>\n",
       "      <td>7.0</td>\n",
       "      <td>Canada</td>\n",
       "      <td>1-2 hour</td>\n",
       "      <td>R</td>\n",
       "      <td>5.8</td>\n",
       "      <td>79.0</td>\n",
       "      <td>2838.0</td>\n",
       "      <td>1.0</td>\n",
       "    </tr>\n",
       "    <tr>\n",
       "      <th>2</th>\n",
       "      <td>Centigrade</td>\n",
       "      <td>Drama</td>\n",
       "      <td>English</td>\n",
       "      <td>6.4</td>\n",
       "      <td>Canada</td>\n",
       "      <td>1-2 hour</td>\n",
       "      <td>Unrated</td>\n",
       "      <td>4.3</td>\n",
       "      <td>NaN</td>\n",
       "      <td>1720.0</td>\n",
       "      <td>NaN</td>\n",
       "    </tr>\n",
       "    <tr>\n",
       "      <th>3</th>\n",
       "      <td>ANNE+</td>\n",
       "      <td>Drama</td>\n",
       "      <td>Turkish</td>\n",
       "      <td>7.7</td>\n",
       "      <td>Belgium</td>\n",
       "      <td>&lt; 30 minutes</td>\n",
       "      <td>NaN</td>\n",
       "      <td>6.5</td>\n",
       "      <td>NaN</td>\n",
       "      <td>1147.0</td>\n",
       "      <td>1.0</td>\n",
       "    </tr>\n",
       "    <tr>\n",
       "      <th>4</th>\n",
       "      <td>Moxie</td>\n",
       "      <td>Animation</td>\n",
       "      <td>English</td>\n",
       "      <td>8.1</td>\n",
       "      <td>Lithuania</td>\n",
       "      <td>1-2 hour</td>\n",
       "      <td>NaN</td>\n",
       "      <td>6.3</td>\n",
       "      <td>NaN</td>\n",
       "      <td>63.0</td>\n",
       "      <td>NaN</td>\n",
       "    </tr>\n",
       "  </tbody>\n",
       "</table>\n",
       "</div>\n",
       "    <div class=\"colab-df-buttons\">\n",
       "\n",
       "  <div class=\"colab-df-container\">\n",
       "    <button class=\"colab-df-convert\" onclick=\"convertToInteractive('df-45d6885a-c591-4240-9ef8-9460ac2ab069')\"\n",
       "            title=\"Convert this dataframe to an interactive table.\"\n",
       "            style=\"display:none;\">\n",
       "\n",
       "  <svg xmlns=\"http://www.w3.org/2000/svg\" height=\"24px\" viewBox=\"0 -960 960 960\">\n",
       "    <path d=\"M120-120v-720h720v720H120Zm60-500h600v-160H180v160Zm220 220h160v-160H400v160Zm0 220h160v-160H400v160ZM180-400h160v-160H180v160Zm440 0h160v-160H620v160ZM180-180h160v-160H180v160Zm440 0h160v-160H620v160Z\"/>\n",
       "  </svg>\n",
       "    </button>\n",
       "\n",
       "  <style>\n",
       "    .colab-df-container {\n",
       "      display:flex;\n",
       "      gap: 12px;\n",
       "    }\n",
       "\n",
       "    .colab-df-convert {\n",
       "      background-color: #E8F0FE;\n",
       "      border: none;\n",
       "      border-radius: 50%;\n",
       "      cursor: pointer;\n",
       "      display: none;\n",
       "      fill: #1967D2;\n",
       "      height: 32px;\n",
       "      padding: 0 0 0 0;\n",
       "      width: 32px;\n",
       "    }\n",
       "\n",
       "    .colab-df-convert:hover {\n",
       "      background-color: #E2EBFA;\n",
       "      box-shadow: 0px 1px 2px rgba(60, 64, 67, 0.3), 0px 1px 3px 1px rgba(60, 64, 67, 0.15);\n",
       "      fill: #174EA6;\n",
       "    }\n",
       "\n",
       "    .colab-df-buttons div {\n",
       "      margin-bottom: 4px;\n",
       "    }\n",
       "\n",
       "    [theme=dark] .colab-df-convert {\n",
       "      background-color: #3B4455;\n",
       "      fill: #D2E3FC;\n",
       "    }\n",
       "\n",
       "    [theme=dark] .colab-df-convert:hover {\n",
       "      background-color: #434B5C;\n",
       "      box-shadow: 0px 1px 3px 1px rgba(0, 0, 0, 0.15);\n",
       "      filter: drop-shadow(0px 1px 2px rgba(0, 0, 0, 0.3));\n",
       "      fill: #FFFFFF;\n",
       "    }\n",
       "  </style>\n",
       "\n",
       "    <script>\n",
       "      const buttonEl =\n",
       "        document.querySelector('#df-45d6885a-c591-4240-9ef8-9460ac2ab069 button.colab-df-convert');\n",
       "      buttonEl.style.display =\n",
       "        google.colab.kernel.accessAllowed ? 'block' : 'none';\n",
       "\n",
       "      async function convertToInteractive(key) {\n",
       "        const element = document.querySelector('#df-45d6885a-c591-4240-9ef8-9460ac2ab069');\n",
       "        const dataTable =\n",
       "          await google.colab.kernel.invokeFunction('convertToInteractive',\n",
       "                                                    [key], {});\n",
       "        if (!dataTable) return;\n",
       "\n",
       "        const docLinkHtml = 'Like what you see? Visit the ' +\n",
       "          '<a target=\"_blank\" href=https://colab.research.google.com/notebooks/data_table.ipynb>data table notebook</a>'\n",
       "          + ' to learn more about interactive tables.';\n",
       "        element.innerHTML = '';\n",
       "        dataTable['output_type'] = 'display_data';\n",
       "        await google.colab.output.renderOutput(dataTable, element);\n",
       "        const docLink = document.createElement('div');\n",
       "        docLink.innerHTML = docLinkHtml;\n",
       "        element.appendChild(docLink);\n",
       "      }\n",
       "    </script>\n",
       "  </div>\n",
       "\n",
       "\n",
       "<div id=\"df-3b96ed7b-964e-47ed-bfbb-2cf19f16fbe7\">\n",
       "  <button class=\"colab-df-quickchart\" onclick=\"quickchart('df-3b96ed7b-964e-47ed-bfbb-2cf19f16fbe7')\"\n",
       "            title=\"Suggest charts\"\n",
       "            style=\"display:none;\">\n",
       "\n",
       "<svg xmlns=\"http://www.w3.org/2000/svg\" height=\"24px\"viewBox=\"0 0 24 24\"\n",
       "     width=\"24px\">\n",
       "    <g>\n",
       "        <path d=\"M19 3H5c-1.1 0-2 .9-2 2v14c0 1.1.9 2 2 2h14c1.1 0 2-.9 2-2V5c0-1.1-.9-2-2-2zM9 17H7v-7h2v7zm4 0h-2V7h2v10zm4 0h-2v-4h2v4z\"/>\n",
       "    </g>\n",
       "</svg>\n",
       "  </button>\n",
       "\n",
       "<style>\n",
       "  .colab-df-quickchart {\n",
       "      --bg-color: #E8F0FE;\n",
       "      --fill-color: #1967D2;\n",
       "      --hover-bg-color: #E2EBFA;\n",
       "      --hover-fill-color: #174EA6;\n",
       "      --disabled-fill-color: #AAA;\n",
       "      --disabled-bg-color: #DDD;\n",
       "  }\n",
       "\n",
       "  [theme=dark] .colab-df-quickchart {\n",
       "      --bg-color: #3B4455;\n",
       "      --fill-color: #D2E3FC;\n",
       "      --hover-bg-color: #434B5C;\n",
       "      --hover-fill-color: #FFFFFF;\n",
       "      --disabled-bg-color: #3B4455;\n",
       "      --disabled-fill-color: #666;\n",
       "  }\n",
       "\n",
       "  .colab-df-quickchart {\n",
       "    background-color: var(--bg-color);\n",
       "    border: none;\n",
       "    border-radius: 50%;\n",
       "    cursor: pointer;\n",
       "    display: none;\n",
       "    fill: var(--fill-color);\n",
       "    height: 32px;\n",
       "    padding: 0;\n",
       "    width: 32px;\n",
       "  }\n",
       "\n",
       "  .colab-df-quickchart:hover {\n",
       "    background-color: var(--hover-bg-color);\n",
       "    box-shadow: 0 1px 2px rgba(60, 64, 67, 0.3), 0 1px 3px 1px rgba(60, 64, 67, 0.15);\n",
       "    fill: var(--button-hover-fill-color);\n",
       "  }\n",
       "\n",
       "  .colab-df-quickchart-complete:disabled,\n",
       "  .colab-df-quickchart-complete:disabled:hover {\n",
       "    background-color: var(--disabled-bg-color);\n",
       "    fill: var(--disabled-fill-color);\n",
       "    box-shadow: none;\n",
       "  }\n",
       "\n",
       "  .colab-df-spinner {\n",
       "    border: 2px solid var(--fill-color);\n",
       "    border-color: transparent;\n",
       "    border-bottom-color: var(--fill-color);\n",
       "    animation:\n",
       "      spin 1s steps(1) infinite;\n",
       "  }\n",
       "\n",
       "  @keyframes spin {\n",
       "    0% {\n",
       "      border-color: transparent;\n",
       "      border-bottom-color: var(--fill-color);\n",
       "      border-left-color: var(--fill-color);\n",
       "    }\n",
       "    20% {\n",
       "      border-color: transparent;\n",
       "      border-left-color: var(--fill-color);\n",
       "      border-top-color: var(--fill-color);\n",
       "    }\n",
       "    30% {\n",
       "      border-color: transparent;\n",
       "      border-left-color: var(--fill-color);\n",
       "      border-top-color: var(--fill-color);\n",
       "      border-right-color: var(--fill-color);\n",
       "    }\n",
       "    40% {\n",
       "      border-color: transparent;\n",
       "      border-right-color: var(--fill-color);\n",
       "      border-top-color: var(--fill-color);\n",
       "    }\n",
       "    60% {\n",
       "      border-color: transparent;\n",
       "      border-right-color: var(--fill-color);\n",
       "    }\n",
       "    80% {\n",
       "      border-color: transparent;\n",
       "      border-right-color: var(--fill-color);\n",
       "      border-bottom-color: var(--fill-color);\n",
       "    }\n",
       "    90% {\n",
       "      border-color: transparent;\n",
       "      border-bottom-color: var(--fill-color);\n",
       "    }\n",
       "  }\n",
       "</style>\n",
       "\n",
       "  <script>\n",
       "    async function quickchart(key) {\n",
       "      const quickchartButtonEl =\n",
       "        document.querySelector('#' + key + ' button');\n",
       "      quickchartButtonEl.disabled = true;  // To prevent multiple clicks.\n",
       "      quickchartButtonEl.classList.add('colab-df-spinner');\n",
       "      try {\n",
       "        const charts = await google.colab.kernel.invokeFunction(\n",
       "            'suggestCharts', [key], {});\n",
       "      } catch (error) {\n",
       "        console.error('Error during call to suggestCharts:', error);\n",
       "      }\n",
       "      quickchartButtonEl.classList.remove('colab-df-spinner');\n",
       "      quickchartButtonEl.classList.add('colab-df-quickchart-complete');\n",
       "    }\n",
       "    (() => {\n",
       "      let quickchartButtonEl =\n",
       "        document.querySelector('#df-3b96ed7b-964e-47ed-bfbb-2cf19f16fbe7 button');\n",
       "      quickchartButtonEl.style.display =\n",
       "        google.colab.kernel.accessAllowed ? 'block' : 'none';\n",
       "    })();\n",
       "  </script>\n",
       "</div>\n",
       "    </div>\n",
       "  </div>\n"
      ],
      "text/plain": [
       "                 Title     Genre1    Lang1  Hidden Gem Score    Country  \\\n",
       "0     Lets Fight Ghost      Crime  Swedish               4.3   Thailand   \n",
       "1  HOW TO BUILD A GIRL     Comedy  English               7.0     Canada   \n",
       "2           Centigrade      Drama  English               6.4     Canada   \n",
       "3                ANNE+      Drama  Turkish               7.7    Belgium   \n",
       "4                Moxie  Animation  English               8.1  Lithuania   \n",
       "\n",
       "        Runtime View Rating  IMDb Score  Rotten Tomatoes Score  IMDb Votes  \\\n",
       "0  < 30 minutes           R         7.9                   98.0    205926.0   \n",
       "1      1-2 hour           R         5.8                   79.0      2838.0   \n",
       "2      1-2 hour     Unrated         4.3                    NaN      1720.0   \n",
       "3  < 30 minutes         NaN         6.5                    NaN      1147.0   \n",
       "4      1-2 hour         NaN         6.3                    NaN        63.0   \n",
       "\n",
       "   Awards Received  \n",
       "0             74.0  \n",
       "1              1.0  \n",
       "2              NaN  \n",
       "3              1.0  \n",
       "4              NaN  "
      ]
     },
     "execution_count": 56,
     "metadata": {},
     "output_type": "execute_result"
    }
   ],
   "source": [
    "#df2 = df2.drop('Metacritic Score', axis=1)\n",
    "df2.head()\n"
   ]
  },
  {
   "cell_type": "code",
   "execution_count": null,
   "metadata": {
    "colab": {
     "base_uri": "https://localhost:8080/"
    },
    "id": "0OzhNRXxpIIr",
    "outputId": "4ff579e1-40c9-4332-9494-69b18beb84a8"
   },
   "outputs": [
    {
     "data": {
      "text/plain": [
       "Awards Received          60.755814\n",
       "Rotten Tomatoes Score    58.772610\n",
       "View Rating              45.374677\n",
       "Hidden Gem Score         13.572351\n",
       "IMDb Votes               13.572351\n",
       "IMDb Score               13.559432\n",
       "Lang1                    12.500000\n",
       "Genre1                   11.046512\n",
       "Country                   0.122739\n",
       "Runtime                   0.006460\n",
       "Title                     0.000000\n",
       "dtype: float64"
      ]
     },
     "execution_count": 57,
     "metadata": {},
     "output_type": "execute_result"
    }
   ],
   "source": [
    "missing_values_report(df2)"
   ]
  },
  {
   "cell_type": "markdown",
   "metadata": {
    "id": "_XRjhLJTpXEF"
   },
   "source": [
    "Now we can go ahead with the listwise deletion of the top 2 columns from the list above, excluding Awards Received, as it will be our target variable."
   ]
  },
  {
   "cell_type": "markdown",
   "metadata": {
    "id": "7UbjVEl7qis9"
   },
   "source": [
    "#Feature Engineering"
   ]
  },
  {
   "cell_type": "code",
   "execution_count": null,
   "metadata": {
    "colab": {
     "base_uri": "https://localhost:8080/"
    },
    "id": "27OSQNospUC_",
    "outputId": "c924a61c-0c46-4992-8f08-be45bd7ba872"
   },
   "outputs": [
    {
     "data": {
      "text/plain": [
       "(5405, 11)"
      ]
     },
     "execution_count": 59,
     "metadata": {},
     "output_type": "execute_result"
    }
   ],
   "source": [
    "variables_for_listwise_deletion = ['Rotten Tomatoes Score', 'View Rating']\n",
    "df3 = df2.dropna(subset=variables_for_listwise_deletion)\n",
    "df3.shape"
   ]
  },
  {
   "cell_type": "code",
   "execution_count": null,
   "metadata": {
    "colab": {
     "base_uri": "https://localhost:8080/"
    },
    "id": "NjxvTViatXQB",
    "outputId": "833fd3eb-5611-4268-af27-b634d9afc531"
   },
   "outputs": [
    {
     "data": {
      "text/plain": [
       "Awards Received          37.095282\n",
       "Lang1                     0.314524\n",
       "Country                   0.129510\n",
       "Title                     0.000000\n",
       "Genre1                    0.000000\n",
       "Hidden Gem Score          0.000000\n",
       "Runtime                   0.000000\n",
       "View Rating               0.000000\n",
       "IMDb Score                0.000000\n",
       "Rotten Tomatoes Score     0.000000\n",
       "IMDb Votes                0.000000\n",
       "dtype: float64"
      ]
     },
     "execution_count": 60,
     "metadata": {},
     "output_type": "execute_result"
    }
   ],
   "source": [
    "missing_values_report(df3)"
   ]
  },
  {
   "cell_type": "markdown",
   "metadata": {
    "id": "zJeOTigXubMt"
   },
   "source": [
    "The only column that has missing values is the awards received column, which represents the number of awards a movie/series has received. Let us see the distribution of the awards received column."
   ]
  },
  {
   "cell_type": "code",
   "execution_count": null,
   "metadata": {
    "colab": {
     "base_uri": "https://localhost:8080/"
    },
    "id": "AvJTOrEOtuPw",
    "outputId": "518b7449-e761-40b8-d872-809b70a47edb"
   },
   "outputs": [
    {
     "data": {
      "text/plain": [
       "1.0      814\n",
       "2.0      481\n",
       "3.0      332\n",
       "4.0      239\n",
       "5.0      169\n",
       "        ... \n",
       "96.0       1\n",
       "194.0      1\n",
       "239.0      1\n",
       "60.0       1\n",
       "152.0      1\n",
       "Name: Awards Received, Length: 124, dtype: int64"
      ]
     },
     "execution_count": 63,
     "metadata": {},
     "output_type": "execute_result"
    }
   ],
   "source": [
    "df3['Awards Received'].value_counts()"
   ]
  },
  {
   "cell_type": "markdown",
   "metadata": {
    "id": "6w0sDbi98BMk"
   },
   "source": [
    "We can see that there are no rows with 0 awards received, which means that all the missing values are the ones with 0 awards received. We will now convert this column into a binary variable, 1=award won, 0=no awards. We will do that by filling all missing values with 0 and anything else with one."
   ]
  },
  {
   "cell_type": "code",
   "execution_count": null,
   "metadata": {
    "id": "Wby84I_TwEA6"
   },
   "outputs": [],
   "source": [
    "df4 = df3.copy()"
   ]
  },
  {
   "cell_type": "code",
   "execution_count": null,
   "metadata": {
    "id": "Jri51m9U9TD9"
   },
   "outputs": [],
   "source": [
    "df4.loc[:, 'Awards Won'] = df4['Awards Received'].apply(lambda x: 0 if pd.isna(x) else 1)\n",
    "df4.drop('Awards Received', axis=1, inplace=True)"
   ]
  },
  {
   "cell_type": "code",
   "execution_count": null,
   "metadata": {
    "colab": {
     "base_uri": "https://localhost:8080/",
     "height": 258
    },
    "id": "SKeuJwtq9fPj",
    "outputId": "fc8cfeaa-1663-4f79-eaac-bd8f36827c07"
   },
   "outputs": [
    {
     "data": {
      "text/html": [
       "\n",
       "  <div id=\"df-244cd097-0b8e-4c86-aa91-3cbe46269ea2\" class=\"colab-df-container\">\n",
       "    <div>\n",
       "<style scoped>\n",
       "    .dataframe tbody tr th:only-of-type {\n",
       "        vertical-align: middle;\n",
       "    }\n",
       "\n",
       "    .dataframe tbody tr th {\n",
       "        vertical-align: top;\n",
       "    }\n",
       "\n",
       "    .dataframe thead th {\n",
       "        text-align: right;\n",
       "    }\n",
       "</style>\n",
       "<table border=\"1\" class=\"dataframe\">\n",
       "  <thead>\n",
       "    <tr style=\"text-align: right;\">\n",
       "      <th></th>\n",
       "      <th>Title</th>\n",
       "      <th>Genre1</th>\n",
       "      <th>Lang1</th>\n",
       "      <th>Hidden Gem Score</th>\n",
       "      <th>Country</th>\n",
       "      <th>Runtime</th>\n",
       "      <th>View Rating</th>\n",
       "      <th>IMDb Score</th>\n",
       "      <th>Rotten Tomatoes Score</th>\n",
       "      <th>IMDb Votes</th>\n",
       "      <th>Awards Won</th>\n",
       "    </tr>\n",
       "  </thead>\n",
       "  <tbody>\n",
       "    <tr>\n",
       "      <th>0</th>\n",
       "      <td>Lets Fight Ghost</td>\n",
       "      <td>Crime</td>\n",
       "      <td>Swedish</td>\n",
       "      <td>4.3</td>\n",
       "      <td>Thailand</td>\n",
       "      <td>&lt; 30 minutes</td>\n",
       "      <td>R</td>\n",
       "      <td>7.9</td>\n",
       "      <td>98.0</td>\n",
       "      <td>205926.0</td>\n",
       "      <td>1</td>\n",
       "    </tr>\n",
       "    <tr>\n",
       "      <th>1</th>\n",
       "      <td>HOW TO BUILD A GIRL</td>\n",
       "      <td>Comedy</td>\n",
       "      <td>English</td>\n",
       "      <td>7.0</td>\n",
       "      <td>Canada</td>\n",
       "      <td>1-2 hour</td>\n",
       "      <td>R</td>\n",
       "      <td>5.8</td>\n",
       "      <td>79.0</td>\n",
       "      <td>2838.0</td>\n",
       "      <td>1</td>\n",
       "    </tr>\n",
       "    <tr>\n",
       "      <th>11</th>\n",
       "      <td>The Invisible</td>\n",
       "      <td>Crime</td>\n",
       "      <td>English</td>\n",
       "      <td>2.0</td>\n",
       "      <td>Lithuania</td>\n",
       "      <td>1-2 hour</td>\n",
       "      <td>PG-13</td>\n",
       "      <td>6.2</td>\n",
       "      <td>20.0</td>\n",
       "      <td>34738.0</td>\n",
       "      <td>0</td>\n",
       "    </tr>\n",
       "    <tr>\n",
       "      <th>15</th>\n",
       "      <td>Joker</td>\n",
       "      <td>Crime</td>\n",
       "      <td>English</td>\n",
       "      <td>3.5</td>\n",
       "      <td>Lithuania</td>\n",
       "      <td>1-2 hour</td>\n",
       "      <td>R</td>\n",
       "      <td>8.4</td>\n",
       "      <td>68.0</td>\n",
       "      <td>26570.0</td>\n",
       "      <td>1</td>\n",
       "    </tr>\n",
       "    <tr>\n",
       "      <th>16</th>\n",
       "      <td>I</td>\n",
       "      <td>Action</td>\n",
       "      <td>English</td>\n",
       "      <td>2.8</td>\n",
       "      <td>Lithuania</td>\n",
       "      <td>1-2 hour</td>\n",
       "      <td>PG</td>\n",
       "      <td>6.5</td>\n",
       "      <td>52.0</td>\n",
       "      <td>26570.0</td>\n",
       "      <td>1</td>\n",
       "    </tr>\n",
       "  </tbody>\n",
       "</table>\n",
       "</div>\n",
       "    <div class=\"colab-df-buttons\">\n",
       "\n",
       "  <div class=\"colab-df-container\">\n",
       "    <button class=\"colab-df-convert\" onclick=\"convertToInteractive('df-244cd097-0b8e-4c86-aa91-3cbe46269ea2')\"\n",
       "            title=\"Convert this dataframe to an interactive table.\"\n",
       "            style=\"display:none;\">\n",
       "\n",
       "  <svg xmlns=\"http://www.w3.org/2000/svg\" height=\"24px\" viewBox=\"0 -960 960 960\">\n",
       "    <path d=\"M120-120v-720h720v720H120Zm60-500h600v-160H180v160Zm220 220h160v-160H400v160Zm0 220h160v-160H400v160ZM180-400h160v-160H180v160Zm440 0h160v-160H620v160ZM180-180h160v-160H180v160Zm440 0h160v-160H620v160Z\"/>\n",
       "  </svg>\n",
       "    </button>\n",
       "\n",
       "  <style>\n",
       "    .colab-df-container {\n",
       "      display:flex;\n",
       "      gap: 12px;\n",
       "    }\n",
       "\n",
       "    .colab-df-convert {\n",
       "      background-color: #E8F0FE;\n",
       "      border: none;\n",
       "      border-radius: 50%;\n",
       "      cursor: pointer;\n",
       "      display: none;\n",
       "      fill: #1967D2;\n",
       "      height: 32px;\n",
       "      padding: 0 0 0 0;\n",
       "      width: 32px;\n",
       "    }\n",
       "\n",
       "    .colab-df-convert:hover {\n",
       "      background-color: #E2EBFA;\n",
       "      box-shadow: 0px 1px 2px rgba(60, 64, 67, 0.3), 0px 1px 3px 1px rgba(60, 64, 67, 0.15);\n",
       "      fill: #174EA6;\n",
       "    }\n",
       "\n",
       "    .colab-df-buttons div {\n",
       "      margin-bottom: 4px;\n",
       "    }\n",
       "\n",
       "    [theme=dark] .colab-df-convert {\n",
       "      background-color: #3B4455;\n",
       "      fill: #D2E3FC;\n",
       "    }\n",
       "\n",
       "    [theme=dark] .colab-df-convert:hover {\n",
       "      background-color: #434B5C;\n",
       "      box-shadow: 0px 1px 3px 1px rgba(0, 0, 0, 0.15);\n",
       "      filter: drop-shadow(0px 1px 2px rgba(0, 0, 0, 0.3));\n",
       "      fill: #FFFFFF;\n",
       "    }\n",
       "  </style>\n",
       "\n",
       "    <script>\n",
       "      const buttonEl =\n",
       "        document.querySelector('#df-244cd097-0b8e-4c86-aa91-3cbe46269ea2 button.colab-df-convert');\n",
       "      buttonEl.style.display =\n",
       "        google.colab.kernel.accessAllowed ? 'block' : 'none';\n",
       "\n",
       "      async function convertToInteractive(key) {\n",
       "        const element = document.querySelector('#df-244cd097-0b8e-4c86-aa91-3cbe46269ea2');\n",
       "        const dataTable =\n",
       "          await google.colab.kernel.invokeFunction('convertToInteractive',\n",
       "                                                    [key], {});\n",
       "        if (!dataTable) return;\n",
       "\n",
       "        const docLinkHtml = 'Like what you see? Visit the ' +\n",
       "          '<a target=\"_blank\" href=https://colab.research.google.com/notebooks/data_table.ipynb>data table notebook</a>'\n",
       "          + ' to learn more about interactive tables.';\n",
       "        element.innerHTML = '';\n",
       "        dataTable['output_type'] = 'display_data';\n",
       "        await google.colab.output.renderOutput(dataTable, element);\n",
       "        const docLink = document.createElement('div');\n",
       "        docLink.innerHTML = docLinkHtml;\n",
       "        element.appendChild(docLink);\n",
       "      }\n",
       "    </script>\n",
       "  </div>\n",
       "\n",
       "\n",
       "<div id=\"df-685a55e2-3027-4626-b3c8-6ea7a49ffd52\">\n",
       "  <button class=\"colab-df-quickchart\" onclick=\"quickchart('df-685a55e2-3027-4626-b3c8-6ea7a49ffd52')\"\n",
       "            title=\"Suggest charts\"\n",
       "            style=\"display:none;\">\n",
       "\n",
       "<svg xmlns=\"http://www.w3.org/2000/svg\" height=\"24px\"viewBox=\"0 0 24 24\"\n",
       "     width=\"24px\">\n",
       "    <g>\n",
       "        <path d=\"M19 3H5c-1.1 0-2 .9-2 2v14c0 1.1.9 2 2 2h14c1.1 0 2-.9 2-2V5c0-1.1-.9-2-2-2zM9 17H7v-7h2v7zm4 0h-2V7h2v10zm4 0h-2v-4h2v4z\"/>\n",
       "    </g>\n",
       "</svg>\n",
       "  </button>\n",
       "\n",
       "<style>\n",
       "  .colab-df-quickchart {\n",
       "      --bg-color: #E8F0FE;\n",
       "      --fill-color: #1967D2;\n",
       "      --hover-bg-color: #E2EBFA;\n",
       "      --hover-fill-color: #174EA6;\n",
       "      --disabled-fill-color: #AAA;\n",
       "      --disabled-bg-color: #DDD;\n",
       "  }\n",
       "\n",
       "  [theme=dark] .colab-df-quickchart {\n",
       "      --bg-color: #3B4455;\n",
       "      --fill-color: #D2E3FC;\n",
       "      --hover-bg-color: #434B5C;\n",
       "      --hover-fill-color: #FFFFFF;\n",
       "      --disabled-bg-color: #3B4455;\n",
       "      --disabled-fill-color: #666;\n",
       "  }\n",
       "\n",
       "  .colab-df-quickchart {\n",
       "    background-color: var(--bg-color);\n",
       "    border: none;\n",
       "    border-radius: 50%;\n",
       "    cursor: pointer;\n",
       "    display: none;\n",
       "    fill: var(--fill-color);\n",
       "    height: 32px;\n",
       "    padding: 0;\n",
       "    width: 32px;\n",
       "  }\n",
       "\n",
       "  .colab-df-quickchart:hover {\n",
       "    background-color: var(--hover-bg-color);\n",
       "    box-shadow: 0 1px 2px rgba(60, 64, 67, 0.3), 0 1px 3px 1px rgba(60, 64, 67, 0.15);\n",
       "    fill: var(--button-hover-fill-color);\n",
       "  }\n",
       "\n",
       "  .colab-df-quickchart-complete:disabled,\n",
       "  .colab-df-quickchart-complete:disabled:hover {\n",
       "    background-color: var(--disabled-bg-color);\n",
       "    fill: var(--disabled-fill-color);\n",
       "    box-shadow: none;\n",
       "  }\n",
       "\n",
       "  .colab-df-spinner {\n",
       "    border: 2px solid var(--fill-color);\n",
       "    border-color: transparent;\n",
       "    border-bottom-color: var(--fill-color);\n",
       "    animation:\n",
       "      spin 1s steps(1) infinite;\n",
       "  }\n",
       "\n",
       "  @keyframes spin {\n",
       "    0% {\n",
       "      border-color: transparent;\n",
       "      border-bottom-color: var(--fill-color);\n",
       "      border-left-color: var(--fill-color);\n",
       "    }\n",
       "    20% {\n",
       "      border-color: transparent;\n",
       "      border-left-color: var(--fill-color);\n",
       "      border-top-color: var(--fill-color);\n",
       "    }\n",
       "    30% {\n",
       "      border-color: transparent;\n",
       "      border-left-color: var(--fill-color);\n",
       "      border-top-color: var(--fill-color);\n",
       "      border-right-color: var(--fill-color);\n",
       "    }\n",
       "    40% {\n",
       "      border-color: transparent;\n",
       "      border-right-color: var(--fill-color);\n",
       "      border-top-color: var(--fill-color);\n",
       "    }\n",
       "    60% {\n",
       "      border-color: transparent;\n",
       "      border-right-color: var(--fill-color);\n",
       "    }\n",
       "    80% {\n",
       "      border-color: transparent;\n",
       "      border-right-color: var(--fill-color);\n",
       "      border-bottom-color: var(--fill-color);\n",
       "    }\n",
       "    90% {\n",
       "      border-color: transparent;\n",
       "      border-bottom-color: var(--fill-color);\n",
       "    }\n",
       "  }\n",
       "</style>\n",
       "\n",
       "  <script>\n",
       "    async function quickchart(key) {\n",
       "      const quickchartButtonEl =\n",
       "        document.querySelector('#' + key + ' button');\n",
       "      quickchartButtonEl.disabled = true;  // To prevent multiple clicks.\n",
       "      quickchartButtonEl.classList.add('colab-df-spinner');\n",
       "      try {\n",
       "        const charts = await google.colab.kernel.invokeFunction(\n",
       "            'suggestCharts', [key], {});\n",
       "      } catch (error) {\n",
       "        console.error('Error during call to suggestCharts:', error);\n",
       "      }\n",
       "      quickchartButtonEl.classList.remove('colab-df-spinner');\n",
       "      quickchartButtonEl.classList.add('colab-df-quickchart-complete');\n",
       "    }\n",
       "    (() => {\n",
       "      let quickchartButtonEl =\n",
       "        document.querySelector('#df-685a55e2-3027-4626-b3c8-6ea7a49ffd52 button');\n",
       "      quickchartButtonEl.style.display =\n",
       "        google.colab.kernel.accessAllowed ? 'block' : 'none';\n",
       "    })();\n",
       "  </script>\n",
       "</div>\n",
       "    </div>\n",
       "  </div>\n"
      ],
      "text/plain": [
       "                  Title  Genre1    Lang1  Hidden Gem Score    Country  \\\n",
       "0      Lets Fight Ghost   Crime  Swedish               4.3   Thailand   \n",
       "1   HOW TO BUILD A GIRL  Comedy  English               7.0     Canada   \n",
       "11        The Invisible   Crime  English               2.0  Lithuania   \n",
       "15                Joker   Crime  English               3.5  Lithuania   \n",
       "16                    I  Action  English               2.8  Lithuania   \n",
       "\n",
       "         Runtime View Rating  IMDb Score  Rotten Tomatoes Score  IMDb Votes  \\\n",
       "0   < 30 minutes           R         7.9                   98.0    205926.0   \n",
       "1       1-2 hour           R         5.8                   79.0      2838.0   \n",
       "11      1-2 hour       PG-13         6.2                   20.0     34738.0   \n",
       "15      1-2 hour           R         8.4                   68.0     26570.0   \n",
       "16      1-2 hour          PG         6.5                   52.0     26570.0   \n",
       "\n",
       "    Awards Won  \n",
       "0            1  \n",
       "1            1  \n",
       "11           0  \n",
       "15           1  \n",
       "16           1  "
      ]
     },
     "execution_count": 110,
     "metadata": {},
     "output_type": "execute_result"
    }
   ],
   "source": [
    "df4.head()"
   ]
  },
  {
   "cell_type": "code",
   "execution_count": null,
   "metadata": {
    "colab": {
     "base_uri": "https://localhost:8080/"
    },
    "id": "i_PHFUFv9g3c",
    "outputId": "f0006d64-2cab-4daa-fcc3-63a1404b58c9"
   },
   "outputs": [
    {
     "data": {
      "text/plain": [
       "Lang1                    0.314524\n",
       "Country                  0.129510\n",
       "Title                    0.000000\n",
       "Genre1                   0.000000\n",
       "Hidden Gem Score         0.000000\n",
       "Runtime                  0.000000\n",
       "View Rating              0.000000\n",
       "IMDb Score               0.000000\n",
       "Rotten Tomatoes Score    0.000000\n",
       "IMDb Votes               0.000000\n",
       "Awards Won               0.000000\n",
       "dtype: float64"
      ]
     },
     "execution_count": 111,
     "metadata": {},
     "output_type": "execute_result"
    }
   ],
   "source": [
    "missing_values_report(df4)"
   ]
  },
  {
   "cell_type": "markdown",
   "metadata": {
    "id": "sSBJx4N8-h5r"
   },
   "source": [
    "We can now see that there are almost no missing values in our dataset (the negligible amount of missing data can be ignored)."
   ]
  },
  {
   "cell_type": "code",
   "execution_count": null,
   "metadata": {
    "colab": {
     "base_uri": "https://localhost:8080/"
    },
    "id": "elpTnDYFDixv",
    "outputId": "dc722765-8832-45dc-b48d-df5b89ef356e"
   },
   "outputs": [
    {
     "data": {
      "text/plain": [
       "Title                     object\n",
       "Genre1                    object\n",
       "Lang1                     object\n",
       "Hidden Gem Score         float64\n",
       "Country                   object\n",
       "Runtime                   object\n",
       "View Rating               object\n",
       "IMDb Score               float64\n",
       "Rotten Tomatoes Score    float64\n",
       "IMDb Votes               float64\n",
       "Awards Won                 int64\n",
       "dtype: object"
      ]
     },
     "execution_count": 69,
     "metadata": {},
     "output_type": "execute_result"
    }
   ],
   "source": [
    "df4.dtypes"
   ]
  },
  {
   "cell_type": "markdown",
   "metadata": {
    "id": "8E6TQ1O1Ck5h"
   },
   "source": [
    "**Let's look for outliers.**"
   ]
  },
  {
   "cell_type": "code",
   "execution_count": null,
   "metadata": {
    "id": "e6pf4gsWCu5U"
   },
   "outputs": [],
   "source": [
    "boxplot_variables = ['Hidden Gem Score', 'IMDb Score', 'IMDb Votes', 'Rotten Tomatoes Score']"
   ]
  },
  {
   "cell_type": "code",
   "execution_count": null,
   "metadata": {
    "colab": {
     "base_uri": "https://localhost:8080/",
     "height": 834
    },
    "id": "8Hy8zbeu9nbW",
    "outputId": "4c593ae4-8e1b-4f14-d0b6-017b8d692c60"
   },
   "outputs": [
    {
     "data": {
      "image/png": "[encoded data removed]",
      "text/plain": [
       "<Figure size 1500x1000 with 4 Axes>"
      ]
     },
     "metadata": {},
     "output_type": "display_data"
    }
   ],
   "source": [
    "sns.set(style=\"darkgrid\")\n",
    "fig, axes = plt.subplots(2, 2, figsize=(15, 5 * 2))\n",
    "axes = axes.flatten()\n",
    "for i, var in enumerate(boxplot_variables):\n",
    "    sns.boxplot(x=df4[var], ax=axes[i])\n",
    "    axes[i].set_title(f'Box Plot of {var}')\n",
    "plt.tight_layout()\n",
    "plt.show()"
   ]
  },
  {
   "cell_type": "markdown",
   "metadata": {
    "id": "uCraJER2EX4H"
   },
   "source": [
    "From the boxplots, there are chances that IMDb votes and IMDb Score have outliers, let's run a simple loop to check."
   ]
  },
  {
   "cell_type": "code",
   "execution_count": null,
   "metadata": {
    "id": "mwb_70AQEi15"
   },
   "outputs": [],
   "source": [
    "outlier_variables = ['Hidden Gem Score', 'IMDb Score', 'IMDb Votes', 'Rotten Tomatoes Score']"
   ]
  },
  {
   "cell_type": "code",
   "execution_count": null,
   "metadata": {
    "id": "HQqVg2N6DwLx"
   },
   "outputs": [],
   "source": [
    "outliers_count = {}\n",
    "for column in outlier_variables:\n",
    "    Q1 = df4[column].quantile(0.25)\n",
    "    Q3 = df4[column].quantile(0.75)\n",
    "    IQR = Q3 - Q1\n",
    "\n",
    "    lower_bound = Q1 - 3 * IQR\n",
    "    upper_bound = Q3 + 3 * IQR\n",
    "\n",
    "\n",
    "    num_outliers = ((df4[column] < lower_bound) | (df4[column] > upper_bound)).sum()\n",
    "\n",
    "    outliers_count[column] = num_outliers\n"
   ]
  },
  {
   "cell_type": "code",
   "execution_count": null,
   "metadata": {
    "colab": {
     "base_uri": "https://localhost:8080/"
    },
    "id": "GaUpoRlsEQwU",
    "outputId": "2c3f9834-8d7b-4732-96b5-53c6dcfb7b14"
   },
   "outputs": [
    {
     "data": {
      "text/plain": [
       "{'Hidden Gem Score': 0,\n",
       " 'IMDb Score': 0,\n",
       " 'IMDb Votes': 288,\n",
       " 'Rotten Tomatoes Score': 0}"
      ]
     },
     "execution_count": 80,
     "metadata": {},
     "output_type": "execute_result"
    }
   ],
   "source": [
    "outliers_count"
   ]
  },
  {
   "cell_type": "markdown",
   "metadata": {
    "id": "cxIGdwSzFB3A"
   },
   "source": [
    "There are 288 major outliers in IMDb Votes, however, no major outliers in the other numeric variables."
   ]
  },
  {
   "cell_type": "markdown",
   "metadata": {
    "id": "8t_Qyo5wHLbP"
   },
   "source": [
    "We can either impute these outliers with the mean/median or just filter them out; since we have already deleted a large chunk of the dataset, let's try imputing them first. We can later try running another model with the outliers filtered and compare it with the one that has outliers imputed"
   ]
  },
  {
   "cell_type": "markdown",
   "metadata": {
    "id": "Hg_Oecz4H3mZ"
   },
   "source": [
    "We will check skewness of the variable IMDb Votes, to figure out whether a mean would be appropriate to impute or the median."
   ]
  },
  {
   "cell_type": "code",
   "execution_count": null,
   "metadata": {
    "colab": {
     "base_uri": "https://localhost:8080/"
    },
    "id": "IHQrvhkEESpp",
    "outputId": "aa0b2251-5e16-4e3c-da56-5541dccf8c91"
   },
   "outputs": [
    {
     "data": {
      "text/plain": [
       "4.51232299990566"
      ]
     },
     "execution_count": 83,
     "metadata": {},
     "output_type": "execute_result"
    }
   ],
   "source": [
    "df4['IMDb Votes'].skew()"
   ]
  },
  {
   "cell_type": "markdown",
   "metadata": {
    "id": "0lTmxt5NITpq"
   },
   "source": [
    "Since the skewness is so high, we cannot use the mean to impute these values because the mean is very sensitive to extreme values, and that will affect our analysis. So we will go ahead with the median imputation for our case."
   ]
  },
  {
   "cell_type": "code",
   "execution_count": null,
   "metadata": {
    "id": "wzQK3dRtIGVE"
   },
   "outputs": [],
   "source": [
    "Q1 = df4['IMDb Votes'].quantile(0.25)\n",
    "Q3 = df4['IMDb Votes'].quantile(0.75)\n",
    "IQR = Q3 - Q1\n",
    "lower_bound = Q1 - 3 * IQR\n",
    "upper_bound = Q3 + 3 * IQR\n",
    "#Median of the 'IMDb Votes' column\n",
    "median_imdb_votes = df4['IMDb Votes'].median()\n",
    "\n",
    "# Imputing the outliers with the median value\n",
    "df4['IMDb Votes'] = df4['IMDb Votes'].apply(lambda x: median_imdb_votes if x < lower_bound or x > upper_bound else x)\n"
   ]
  },
  {
   "cell_type": "code",
   "execution_count": null,
   "metadata": {
    "colab": {
     "base_uri": "https://localhost:8080/",
     "height": 834
    },
    "id": "fyH-rx6qJ1ly",
    "outputId": "6816e304-8722-4b9d-bda6-e189416674f5"
   },
   "outputs": [
    {
     "data": {
      "image/png": "[encoded data removed]",
      "text/plain": [
       "<Figure size 1500x1000 with 4 Axes>"
      ]
     },
     "metadata": {},
     "output_type": "display_data"
    }
   ],
   "source": [
    "sns.set(style=\"darkgrid\")\n",
    "fig, axes = plt.subplots(2, 2, figsize=(15, 5 * 2))\n",
    "axes = axes.flatten()\n",
    "for i, var in enumerate(boxplot_variables):\n",
    "    sns.boxplot(x=df4[var], ax=axes[i])\n",
    "    axes[i].set_title(f'Box Plot of {var}')\n",
    "plt.tight_layout()\n",
    "plt.show()"
   ]
  },
  {
   "cell_type": "markdown",
   "metadata": {
    "id": "GEiGXQmdKS9m"
   },
   "source": [
    "We can see that the boxplot of the IMDb Votes variable looks much better than it did before."
   ]
  },
  {
   "cell_type": "markdown",
   "metadata": {
    "id": "v6tKlPeiKj3v"
   },
   "source": [
    "#One-Hot Encoding"
   ]
  },
  {
   "cell_type": "markdown",
   "metadata": {
    "id": "Ow5C9pCHKnQI"
   },
   "source": [
    "We will now create dummy variables for the necessary string variables."
   ]
  },
  {
   "cell_type": "code",
   "execution_count": null,
   "metadata": {
    "id": "aGo39I4AKmYC"
   },
   "outputs": [],
   "source": [
    "df5 = df4.copy()"
   ]
  },
  {
   "cell_type": "code",
   "execution_count": null,
   "metadata": {
    "id": "wgCBnCdILdM7"
   },
   "outputs": [],
   "source": [
    "df5 = pd.get_dummies(df5, columns=[\"Genre1\"], prefix=[\"Genre\"])"
   ]
  },
  {
   "cell_type": "code",
   "execution_count": null,
   "metadata": {
    "id": "4yY1C9YALnzY"
   },
   "outputs": [],
   "source": [
    "df5 = pd.get_dummies(df5, columns=[\"Lang1\"], prefix=[\"Lang\"])"
   ]
  },
  {
   "cell_type": "code",
   "execution_count": null,
   "metadata": {
    "id": "nbdLyqcNLyx-"
   },
   "outputs": [],
   "source": [
    "df5 = pd.get_dummies(df5, columns=[\"View Rating\"], prefix=[\"Rating\"])"
   ]
  },
  {
   "cell_type": "code",
   "execution_count": null,
   "metadata": {
    "id": "f2GukkR9L3_L"
   },
   "outputs": [],
   "source": [
    "df5 = pd.get_dummies(df5, columns=[\"Runtime\"], prefix=[\"Runtime\"])"
   ]
  },
  {
   "cell_type": "code",
   "execution_count": null,
   "metadata": {
    "id": "cJjxVmBcMB67"
   },
   "outputs": [],
   "source": [
    "df5 = pd.get_dummies(df5, columns=[\"Country\"], prefix=[\"Country\"])"
   ]
  },
  {
   "cell_type": "markdown",
   "metadata": {
    "id": "Qh5C-6qSNMAv"
   },
   "source": [
    "Dropping some dummies so we don't get caught in the dummy variable trap."
   ]
  },
  {
   "cell_type": "code",
   "execution_count": null,
   "metadata": {
    "colab": {
     "base_uri": "https://localhost:8080/"
    },
    "id": "G8COkiGEOJZk",
    "outputId": "b316c8e5-88af-46b7-a0f7-c74ec105bb4b"
   },
   "outputs": [
    {
     "data": {
      "text/plain": [
       "(5405, 142)"
      ]
     },
     "execution_count": 101,
     "metadata": {},
     "output_type": "execute_result"
    }
   ],
   "source": [
    "df_cleaned = df5.drop(['Genre_Action', 'Rating_R', 'Lang_Zulu', 'Country_Slovakia', 'Runtime_1-2 hour'], axis=1)\n",
    "df_cleaned.shape"
   ]
  },
  {
   "cell_type": "markdown",
   "metadata": {
    "id": "A72BNXAxPvza"
   },
   "source": [
    "Creating a scaled dataset so we can have it handy before running the model."
   ]
  },
  {
   "cell_type": "code",
   "execution_count": null,
   "metadata": {
    "id": "PG1R-Hk7PLqD"
   },
   "outputs": [],
   "source": [
    "featurestoscale = ['Hidden Gem Score', 'IMDb Score', 'IMDb Votes', 'Rotten Tomatoes Score']"
   ]
  },
  {
   "cell_type": "code",
   "execution_count": null,
   "metadata": {
    "colab": {
     "base_uri": "https://localhost:8080/",
     "height": 199
    },
    "id": "JqVqNqTmOQyP",
    "outputId": "615d201d-6318-48fb-a8ea-4ac705507cb2"
   },
   "outputs": [
    {
     "data": {
      "text/html": [
       "\n",
       "  <div id=\"df-d9eea5ca-cf6c-44d2-b461-a9ca89d6501e\" class=\"colab-df-container\">\n",
       "    <div>\n",
       "<style scoped>\n",
       "    .dataframe tbody tr th:only-of-type {\n",
       "        vertical-align: middle;\n",
       "    }\n",
       "\n",
       "    .dataframe tbody tr th {\n",
       "        vertical-align: top;\n",
       "    }\n",
       "\n",
       "    .dataframe thead th {\n",
       "        text-align: right;\n",
       "    }\n",
       "</style>\n",
       "<table border=\"1\" class=\"dataframe\">\n",
       "  <thead>\n",
       "    <tr style=\"text-align: right;\">\n",
       "      <th></th>\n",
       "      <th>Title</th>\n",
       "      <th>Hidden Gem Score</th>\n",
       "      <th>IMDb Score</th>\n",
       "      <th>Rotten Tomatoes Score</th>\n",
       "      <th>IMDb Votes</th>\n",
       "      <th>Awards Won</th>\n",
       "      <th>Genre_Adventure</th>\n",
       "      <th>Genre_Animation</th>\n",
       "      <th>Genre_Biography</th>\n",
       "      <th>Genre_Comedy</th>\n",
       "      <th>...</th>\n",
       "      <th>Country_Singapore</th>\n",
       "      <th>Country_South Africa</th>\n",
       "      <th>Country_South Korea</th>\n",
       "      <th>Country_Spain</th>\n",
       "      <th>Country_Sweden</th>\n",
       "      <th>Country_Switzerland</th>\n",
       "      <th>Country_Thailand</th>\n",
       "      <th>Country_Turkey</th>\n",
       "      <th>Country_United Kingdom</th>\n",
       "      <th>Country_United States</th>\n",
       "    </tr>\n",
       "  </thead>\n",
       "  <tbody>\n",
       "    <tr>\n",
       "      <th>0</th>\n",
       "      <td>Lets Fight Ghost</td>\n",
       "      <td>0.083208</td>\n",
       "      <td>1.403811</td>\n",
       "      <td>1.423489</td>\n",
       "      <td>2.356332</td>\n",
       "      <td>1</td>\n",
       "      <td>0</td>\n",
       "      <td>0</td>\n",
       "      <td>0</td>\n",
       "      <td>0</td>\n",
       "      <td>...</td>\n",
       "      <td>0</td>\n",
       "      <td>0</td>\n",
       "      <td>0</td>\n",
       "      <td>0</td>\n",
       "      <td>0</td>\n",
       "      <td>0</td>\n",
       "      <td>1</td>\n",
       "      <td>0</td>\n",
       "      <td>0</td>\n",
       "      <td>0</td>\n",
       "    </tr>\n",
       "  </tbody>\n",
       "</table>\n",
       "<p>1 rows × 142 columns</p>\n",
       "</div>\n",
       "    <div class=\"colab-df-buttons\">\n",
       "\n",
       "  <div class=\"colab-df-container\">\n",
       "    <button class=\"colab-df-convert\" onclick=\"convertToInteractive('df-d9eea5ca-cf6c-44d2-b461-a9ca89d6501e')\"\n",
       "            title=\"Convert this dataframe to an interactive table.\"\n",
       "            style=\"display:none;\">\n",
       "\n",
       "  <svg xmlns=\"http://www.w3.org/2000/svg\" height=\"24px\" viewBox=\"0 -960 960 960\">\n",
       "    <path d=\"M120-120v-720h720v720H120Zm60-500h600v-160H180v160Zm220 220h160v-160H400v160Zm0 220h160v-160H400v160ZM180-400h160v-160H180v160Zm440 0h160v-160H620v160ZM180-180h160v-160H180v160Zm440 0h160v-160H620v160Z\"/>\n",
       "  </svg>\n",
       "    </button>\n",
       "\n",
       "  <style>\n",
       "    .colab-df-container {\n",
       "      display:flex;\n",
       "      gap: 12px;\n",
       "    }\n",
       "\n",
       "    .colab-df-convert {\n",
       "      background-color: #E8F0FE;\n",
       "      border: none;\n",
       "      border-radius: 50%;\n",
       "      cursor: pointer;\n",
       "      display: none;\n",
       "      fill: #1967D2;\n",
       "      height: 32px;\n",
       "      padding: 0 0 0 0;\n",
       "      width: 32px;\n",
       "    }\n",
       "\n",
       "    .colab-df-convert:hover {\n",
       "      background-color: #E2EBFA;\n",
       "      box-shadow: 0px 1px 2px rgba(60, 64, 67, 0.3), 0px 1px 3px 1px rgba(60, 64, 67, 0.15);\n",
       "      fill: #174EA6;\n",
       "    }\n",
       "\n",
       "    .colab-df-buttons div {\n",
       "      margin-bottom: 4px;\n",
       "    }\n",
       "\n",
       "    [theme=dark] .colab-df-convert {\n",
       "      background-color: #3B4455;\n",
       "      fill: #D2E3FC;\n",
       "    }\n",
       "\n",
       "    [theme=dark] .colab-df-convert:hover {\n",
       "      background-color: #434B5C;\n",
       "      box-shadow: 0px 1px 3px 1px rgba(0, 0, 0, 0.15);\n",
       "      filter: drop-shadow(0px 1px 2px rgba(0, 0, 0, 0.3));\n",
       "      fill: #FFFFFF;\n",
       "    }\n",
       "  </style>\n",
       "\n",
       "    <script>\n",
       "      const buttonEl =\n",
       "        document.querySelector('#df-d9eea5ca-cf6c-44d2-b461-a9ca89d6501e button.colab-df-convert');\n",
       "      buttonEl.style.display =\n",
       "        google.colab.kernel.accessAllowed ? 'block' : 'none';\n",
       "\n",
       "      async function convertToInteractive(key) {\n",
       "        const element = document.querySelector('#df-d9eea5ca-cf6c-44d2-b461-a9ca89d6501e');\n",
       "        const dataTable =\n",
       "          await google.colab.kernel.invokeFunction('convertToInteractive',\n",
       "                                                    [key], {});\n",
       "        if (!dataTable) return;\n",
       "\n",
       "        const docLinkHtml = 'Like what you see? Visit the ' +\n",
       "          '<a target=\"_blank\" href=https://colab.research.google.com/notebooks/data_table.ipynb>data table notebook</a>'\n",
       "          + ' to learn more about interactive tables.';\n",
       "        element.innerHTML = '';\n",
       "        dataTable['output_type'] = 'display_data';\n",
       "        await google.colab.output.renderOutput(dataTable, element);\n",
       "        const docLink = document.createElement('div');\n",
       "        docLink.innerHTML = docLinkHtml;\n",
       "        element.appendChild(docLink);\n",
       "      }\n",
       "    </script>\n",
       "  </div>\n",
       "\n",
       "    </div>\n",
       "  </div>\n"
      ],
      "text/plain": [
       "              Title  Hidden Gem Score  IMDb Score  Rotten Tomatoes Score  \\\n",
       "0  Lets Fight Ghost          0.083208    1.403811               1.423489   \n",
       "\n",
       "   IMDb Votes  Awards Won  Genre_Adventure  Genre_Animation  Genre_Biography  \\\n",
       "0    2.356332           1                0                0                0   \n",
       "\n",
       "   Genre_Comedy  ...  Country_Singapore  Country_South Africa  \\\n",
       "0             0  ...                  0                     0   \n",
       "\n",
       "   Country_South Korea  Country_Spain  Country_Sweden  Country_Switzerland  \\\n",
       "0                    0              0               0                    0   \n",
       "\n",
       "   Country_Thailand  Country_Turkey  Country_United Kingdom  \\\n",
       "0                 1               0                       0   \n",
       "\n",
       "   Country_United States  \n",
       "0                      0  \n",
       "\n",
       "[1 rows x 142 columns]"
      ]
     },
     "execution_count": 106,
     "metadata": {},
     "output_type": "execute_result"
    }
   ],
   "source": [
    "\n",
    "scaler = StandardScaler()\n",
    "\n",
    "df_scaled = df_cleaned.copy()\n",
    "\n",
    "df_scaled[featurestoscale] = scaler.fit_transform(df_scaled[featurestoscale])\n",
    "\n",
    "df_scaled.head(1)"
   ]
  },
  {
   "cell_type": "markdown",
   "metadata": {
    "id": "m-i_Y-GWP9zy"
   },
   "source": [
    "#Running the model"
   ]
  },
  {
   "cell_type": "markdown",
   "metadata": {
    "id": "FOa7M0pNQdbC"
   },
   "source": [
    "**Before we run the model, let's check for any missing values just to be cautious**"
   ]
  },
  {
   "cell_type": "code",
   "execution_count": null,
   "metadata": {
    "colab": {
     "base_uri": "https://localhost:8080/"
    },
    "id": "lO6jKN87PokQ",
    "outputId": "c31a9dbb-784f-4baa-c717-1b223c6a1a28"
   },
   "outputs": [
    {
     "data": {
      "text/plain": [
       "Title                    0.0\n",
       "Rating_TV-G              0.0\n",
       "Rating_NC-17             0.0\n",
       "Rating_Not Rated         0.0\n",
       "Rating_PG                0.0\n",
       "                        ... \n",
       "Lang_English             0.0\n",
       "Lang_Dutch               0.0\n",
       "Lang_Dari                0.0\n",
       "Lang_Danish              0.0\n",
       "Country_United States    0.0\n",
       "Length: 142, dtype: float64"
      ]
     },
     "execution_count": 124,
     "metadata": {},
     "output_type": "execute_result"
    }
   ],
   "source": [
    "missing_values_report(df_scaled)"
   ]
  },
  {
   "cell_type": "code",
   "execution_count": null,
   "metadata": {
    "id": "7ysg3EUHP85T"
   },
   "outputs": [],
   "source": [
    "predictive_df = df_scaled.drop(['Title'], axis=1)\n",
    "\n",
    "# Define features (X) and target (y)\n",
    "X = predictive_df.drop('Awards Won', axis=1)\n",
    "y = predictive_df['Awards Won']\n",
    "\n",
    "# Split the dataset into training and testing sets\n",
    "X_train, X_test, y_train, y_test = train_test_split(X, y, test_size=0.2, random_state=42)\n",
    "\n",
    "# Standardize the features\n",
    "scaler = StandardScaler()\n",
    "X_train_scaled = scaler.fit_transform(X_train)\n",
    "X_test_scaled = scaler.transform(X_test)\n",
    "\n",
    "# Initialize the Logistic Regression model\n",
    "log_reg = LogisticRegression()\n",
    "\n",
    "# Train the model\n",
    "log_reg.fit(X_train_scaled, y_train)\n",
    "\n",
    "# Predict on the test set\n",
    "y_pred = log_reg.predict(X_test_scaled)\n"
   ]
  },
  {
   "cell_type": "code",
   "execution_count": null,
   "metadata": {
    "colab": {
     "base_uri": "https://localhost:8080/"
    },
    "id": "fsINscjMTIm0",
    "outputId": "d86edc94-d45d-49aa-b3db-5ae3f22996ad"
   },
   "outputs": [
    {
     "name": "stdout",
     "output_type": "stream",
     "text": [
      "[[226 194]\n",
      " [ 92 569]]\n"
     ]
    }
   ],
   "source": [
    "print(confusion_matrix(y_test, y_pred))"
   ]
  },
  {
   "cell_type": "code",
   "execution_count": null,
   "metadata": {
    "colab": {
     "base_uri": "https://localhost:8080/"
    },
    "id": "CEuS0cDJTQ4g",
    "outputId": "cc73b5bc-d3db-44d9-d810-00aa8375216b"
   },
   "outputs": [
    {
     "name": "stdout",
     "output_type": "stream",
     "text": [
      "True Negatives: 226\n",
      "False Positives: 194\n",
      "False Negatives: 92\n",
      "True Positives: 569\n"
     ]
    }
   ],
   "source": [
    "# Obtained confusion matrix:\n",
    "confusion_matrix = [[226, 194], [92, 569]]\n",
    "\n",
    "# Assigning the values:\n",
    "TN, FP, FN, TP = confusion_matrix[0][0], confusion_matrix[0][1], confusion_matrix[1][0], confusion_matrix[1][1]\n",
    "\n",
    "# Printing statements\n",
    "print(f\"True Negatives: {TN}\")\n",
    "print(f\"False Positives: {FP}\")\n",
    "print(f\"False Negatives: {FN}\")\n",
    "print(f\"True Positives: {TP}\")"
   ]
  },
  {
   "cell_type": "code",
   "execution_count": null,
   "metadata": {
    "colab": {
     "base_uri": "https://localhost:8080/"
    },
    "id": "ixtXQUKTTSWl",
    "outputId": "1207ac70-3557-47d5-db37-c2dcc1484b0e"
   },
   "outputs": [
    {
     "name": "stdout",
     "output_type": "stream",
     "text": [
      "Null Model: 62.9%\n"
     ]
    }
   ],
   "source": [
    "Awards_perc = df5['Awards Won'].mean() * 100\n",
    "\n",
    "\n",
    "# Print the results, rounding to 2 decimal places\n",
    "if Awards_perc > 49.9:\n",
    "    null = round(Awards_perc, 2)\n",
    "else:\n",
    "    null = round(100 - Awards_perc, 2)\n",
    "\n",
    "print(f\"Null Model: {null}%\")"
   ]
  },
  {
   "cell_type": "code",
   "execution_count": null,
   "metadata": {
    "colab": {
     "base_uri": "https://localhost:8080/"
    },
    "id": "mqHhm5tITlqk",
    "outputId": "0ffaff9a-7440-43f7-f2d2-0d696d52d06a"
   },
   "outputs": [
    {
     "name": "stdout",
     "output_type": "stream",
     "text": [
      "Predictive Power: 73.54%\n"
     ]
    }
   ],
   "source": [
    "pred_power = round(((TN + TP) / (TN + TP + FN + FP))*100, 2)\n",
    "\n",
    "print(f\"Predictive Power: {pred_power}%\")"
   ]
  },
  {
   "cell_type": "code",
   "execution_count": null,
   "metadata": {
    "colab": {
     "base_uri": "https://localhost:8080/"
    },
    "id": "K1DIdWOiULrf",
    "outputId": "1aecbec1-065d-4f65-dbe7-14cdd6c0606e"
   },
   "outputs": [
    {
     "name": "stdout",
     "output_type": "stream",
     "text": [
      "Sensitivity: 86.08%\n"
     ]
    }
   ],
   "source": [
    "sensitivity = round(((TP) / (TP + FN))*100, 2)\n",
    "\n",
    "print(f\"Sensitivity: {sensitivity}%\")"
   ]
  },
  {
   "cell_type": "code",
   "execution_count": null,
   "metadata": {
    "colab": {
     "base_uri": "https://localhost:8080/"
    },
    "id": "-wcpWQi4Xjot",
    "outputId": "18cd5137-00f1-495c-c370-8ffe08139f73"
   },
   "outputs": [
    {
     "name": "stdout",
     "output_type": "stream",
     "text": [
      "Precision: 74.57%\n"
     ]
    }
   ],
   "source": [
    "precision = round(((TP) / (TP + FP))*100, 2)\n",
    "\n",
    "print(f\"Precision: {precision}%\")"
   ]
  },
  {
   "cell_type": "code",
   "execution_count": null,
   "metadata": {
    "colab": {
     "base_uri": "https://localhost:8080/"
    },
    "id": "xDf5ycbWXlfk",
    "outputId": "4f222925-4d58-4347-cf4a-e716187c715c"
   },
   "outputs": [
    {
     "name": "stdout",
     "output_type": "stream",
     "text": [
      "Specificity: 53.81%\n"
     ]
    }
   ],
   "source": [
    "specificity = round(((TN) / (FP + TN))*100, 2)\n",
    "\n",
    "print(f\"Specificity: {specificity}%\")"
   ]
  },
  {
   "cell_type": "code",
   "execution_count": null,
   "metadata": {
    "colab": {
     "base_uri": "https://localhost:8080/"
    },
    "id": "lYtBDuQ4Xq_1",
    "outputId": "98b680c1-3595-4f1a-b805-1aa5e5d3ad82"
   },
   "outputs": [
    {
     "name": "stdout",
     "output_type": "stream",
     "text": [
      "Hidden Gem Score: Odds Ratio = 0.5961\n",
      "IMDb Score: Odds Ratio = 1.2193\n",
      "Rotten Tomatoes Score: Odds Ratio = 2.4687\n",
      "IMDb Votes: Odds Ratio = 1.7347\n",
      "Genre_Adventure: Odds Ratio = 0.9695\n",
      "Genre_Animation: Odds Ratio = 1.0569\n",
      "Genre_Biography: Odds Ratio = 1.1079\n",
      "Genre_Comedy: Odds Ratio = 1.0561\n",
      "Genre_Crime: Odds Ratio = 1.1412\n",
      "Genre_Documentary: Odds Ratio = 1.0441\n",
      "Genre_Drama: Odds Ratio = 1.3933\n",
      "Genre_Family: Odds Ratio = 0.8915\n",
      "Genre_Fantasy: Odds Ratio = 0.9981\n",
      "Genre_History: Odds Ratio = 1.1238\n",
      "Genre_Horror: Odds Ratio = 1.0524\n",
      "Genre_Music: Odds Ratio = 1.0000\n",
      "Genre_Musical: Odds Ratio = 1.0000\n",
      "Genre_Mystery: Odds Ratio = 1.0599\n",
      "Genre_Reality-TV: Odds Ratio = 0.8950\n",
      "Genre_Romance: Odds Ratio = 0.9440\n",
      "Genre_Sci-Fi: Odds Ratio = 1.0349\n",
      "Genre_Thriller: Odds Ratio = 1.0685\n",
      "Genre_War: Odds Ratio = 1.0961\n",
      "Genre_Western: Odds Ratio = 1.0364\n",
      "Lang_Afrikaans: Odds Ratio = 1.1296\n",
      "Lang_Albanian: Odds Ratio = 0.8945\n",
      "Lang_American Sign Language: Odds Ratio = 0.9680\n",
      "Lang_Arabic: Odds Ratio = 1.0850\n",
      "Lang_Basque: Odds Ratio = 1.0000\n",
      "Lang_Bengali: Odds Ratio = 0.9029\n",
      "Lang_Bhojpuri: Odds Ratio = 1.0941\n",
      "Lang_Cantonese: Odds Ratio = 1.1021\n",
      "Lang_Catalan: Odds Ratio = 1.1116\n",
      "Lang_Chinese: Odds Ratio = 1.0722\n",
      "Lang_Croatian: Odds Ratio = 1.1074\n",
      "Lang_Czech: Odds Ratio = 1.0775\n",
      "Lang_Danish: Odds Ratio = 1.0870\n",
      "Lang_Dari: Odds Ratio = 1.0572\n",
      "Lang_Dutch: Odds Ratio = 1.3803\n",
      "Lang_English: Odds Ratio = 0.9153\n",
      "Lang_Filipino: Odds Ratio = 1.0619\n",
      "Lang_Finnish: Odds Ratio = 0.9155\n",
      "Lang_French: Odds Ratio = 0.9900\n",
      "Lang_German: Odds Ratio = 1.0971\n",
      "Lang_Greek: Odds Ratio = 0.9837\n",
      "Lang_Hebrew: Odds Ratio = 0.9661\n",
      "Lang_Hindi: Odds Ratio = 1.0082\n",
      "Lang_Hungarian: Odds Ratio = 1.0167\n",
      "Lang_Icelandic: Odds Ratio = 1.1034\n",
      "Lang_Indonesian: Odds Ratio = 0.9221\n",
      "Lang_Inuktitut: Odds Ratio = 1.0973\n",
      "Lang_Italian: Odds Ratio = 0.9879\n",
      "Lang_Japanese: Odds Ratio = 0.8041\n",
      "Lang_Khmer: Odds Ratio = 1.1809\n",
      "Lang_Kikuyu: Odds Ratio = 0.9084\n",
      "Lang_Korean: Odds Ratio = 1.1028\n",
      "Lang_Malayalam: Odds Ratio = 1.1080\n",
      "Lang_Mandarin: Odds Ratio = 1.0799\n",
      "Lang_Maori: Odds Ratio = 1.1087\n",
      "Lang_Marathi: Odds Ratio = 1.1313\n",
      "Lang_Min Nan: Odds Ratio = 0.8851\n",
      "Lang_Neapolitan: Odds Ratio = 1.0598\n",
      "Lang_None: Odds Ratio = 0.9786\n",
      "Lang_Norwegian: Odds Ratio = 1.2697\n",
      "Lang_Persian: Odds Ratio = 1.0836\n",
      "Lang_Polish: Odds Ratio = 1.0385\n",
      "Lang_Portuguese: Odds Ratio = 1.0455\n",
      "Lang_Punjabi: Odds Ratio = 0.9787\n",
      "Lang_Romanian: Odds Ratio = 1.0687\n",
      "Lang_Romany: Odds Ratio = 1.0731\n",
      "Lang_Russian: Odds Ratio = 1.0378\n",
      "Lang_Slovak: Odds Ratio = 1.0641\n",
      "Lang_Southern Sotho: Odds Ratio = 1.1008\n",
      "Lang_Spanish: Odds Ratio = 1.1062\n",
      "Lang_Swedish: Odds Ratio = 1.0844\n",
      "Lang_Tagalog: Odds Ratio = 1.0000\n",
      "Lang_Tamil: Odds Ratio = 0.9368\n",
      "Lang_Telugu: Odds Ratio = 1.0286\n",
      "Lang_Thai: Odds Ratio = 1.0187\n",
      "Lang_Tibetan: Odds Ratio = 1.0851\n",
      "Lang_Tswana: Odds Ratio = 1.0838\n",
      "Lang_Ukrainian: Odds Ratio = 1.0803\n",
      "Lang_Urdu: Odds Ratio = 1.0321\n",
      "Lang_Yiddish: Odds Ratio = 1.0882\n",
      "Rating_Approved: Odds Ratio = 0.9938\n",
      "Rating_G: Odds Ratio = 0.9992\n",
      "Rating_GP: Odds Ratio = 1.0000\n",
      "Rating_M/PG: Odds Ratio = 1.0000\n",
      "Rating_MA-17: Odds Ratio = 1.0830\n",
      "Rating_NC-17: Odds Ratio = 1.2765\n",
      "Rating_Not Rated: Odds Ratio = 1.0922\n",
      "Rating_PG: Odds Ratio = 1.2203\n",
      "Rating_PG-13: Odds Ratio = 1.1576\n",
      "Rating_Passed: Odds Ratio = 0.9990\n",
      "Rating_TV-14: Odds Ratio = 0.9274\n",
      "Rating_TV-G: Odds Ratio = 0.9238\n",
      "Rating_TV-MA: Odds Ratio = 0.8157\n",
      "Rating_TV-PG: Odds Ratio = 0.9694\n",
      "Rating_TV-Y: Odds Ratio = 0.9753\n",
      "Rating_TV-Y7: Odds Ratio = 0.9683\n",
      "Rating_TV-Y7-FV: Odds Ratio = 0.9001\n",
      "Rating_Unrated: Odds Ratio = 0.9886\n",
      "Rating_X: Odds Ratio = 1.0000\n",
      "Runtime_30-60 mins: Odds Ratio = 0.9230\n",
      "Runtime_< 30 minutes: Odds Ratio = 1.0414\n",
      "Runtime_> 2 hrs: Odds Ratio = 1.3284\n",
      "Country_Argentina: Odds Ratio = 0.9206\n",
      "Country_Australia: Odds Ratio = 0.9168\n",
      "Country_Belgium: Odds Ratio = 0.9102\n",
      "Country_Brazil: Odds Ratio = 0.9116\n",
      "Country_Canada: Odds Ratio = 1.0030\n",
      "Country_Czech Republic: Odds Ratio = 0.9205\n",
      "Country_France: Odds Ratio = 0.9219\n",
      "Country_Germany: Odds Ratio = 0.9334\n",
      "Country_Greece: Odds Ratio = 1.0238\n",
      "Country_Hong Kong: Odds Ratio = 0.8855\n",
      "Country_Hungary: Odds Ratio = 0.9216\n",
      "Country_Iceland: Odds Ratio = 0.9573\n",
      "Country_India: Odds Ratio = 1.0073\n",
      "Country_Israel: Odds Ratio = 1.0170\n",
      "Country_Italy: Odds Ratio = 0.9945\n",
      "Country_Japan: Odds Ratio = 0.9790\n",
      "Country_Lithuania: Odds Ratio = 0.9278\n",
      "Country_Malaysia: Odds Ratio = 1.0772\n",
      "Country_Mexico: Odds Ratio = 0.9399\n",
      "Country_Netherlands: Odds Ratio = 0.9292\n",
      "Country_Poland: Odds Ratio = 1.0104\n",
      "Country_Portugal: Odds Ratio = 0.9523\n",
      "Country_Romania: Odds Ratio = 1.0002\n",
      "Country_Russia: Odds Ratio = 1.0352\n",
      "Country_Singapore: Odds Ratio = 0.9919\n",
      "Country_South Africa: Odds Ratio = 0.8910\n",
      "Country_South Korea: Odds Ratio = 0.9974\n",
      "Country_Spain: Odds Ratio = 0.9405\n",
      "Country_Sweden: Odds Ratio = 0.9461\n",
      "Country_Switzerland: Odds Ratio = 0.9884\n",
      "Country_Thailand: Odds Ratio = 0.9946\n",
      "Country_Turkey: Odds Ratio = 0.9603\n",
      "Country_United Kingdom: Odds Ratio = 0.9055\n",
      "Country_United States: Odds Ratio = 0.9752\n"
     ]
    }
   ],
   "source": [
    "\n",
    "# Assuming 'log_reg' is your trained logistic regression model\n",
    "# and 'X' contains your feature names\n",
    "\n",
    "# Get the coefficients from the model\n",
    "coefficients = log_reg.coef_[0]\n",
    "\n",
    "# Calculate the exponentiated coefficients (odds ratios)\n",
    "odds_ratios = np.exp(coefficients)\n",
    "\n",
    "# Print the odds ratios for each feature\n",
    "for feature, odds in zip(X.columns, odds_ratios):\n",
    "    print(f\"{feature}: Odds Ratio = {odds:.4f}\")"
   ]
  },
  {
   "cell_type": "code",
   "execution_count": null,
   "metadata": {
    "id": "Ci2qiBbiX0vN"
   },
   "outputs": [],
   "source": []
  }
 ],
 "metadata": {
  "colab": {
   "provenance": []
  },
  "kernelspec": {
   "display_name": "Python 3 (ipykernel)",
   "language": "python",
   "name": "python3"
  },
  "language_info": {
   "codemirror_mode": {
    "name": "ipython",
    "version": 3
   },
   "file_extension": ".py",
   "mimetype": "text/x-python",
   "name": "python",
   "nbconvert_exporter": "python",
   "pygments_lexer": "ipython3",
   "version": "3.11.4"
  }
 },
 "nbformat": 4,
 "nbformat_minor": 1
}
